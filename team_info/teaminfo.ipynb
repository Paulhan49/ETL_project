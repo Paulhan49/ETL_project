{
 "metadata": {
  "language_info": {
   "codemirror_mode": {
    "name": "ipython",
    "version": 3
   },
   "file_extension": ".py",
   "mimetype": "text/x-python",
   "name": "python",
   "nbconvert_exporter": "python",
   "pygments_lexer": "ipython3",
   "version": "3.8.3-final"
  },
  "orig_nbformat": 2,
  "kernelspec": {
   "name": "Python 3.8.3 64-bit ('base': conda)",
   "display_name": "Python 3.8.3 64-bit ('base': conda)",
   "metadata": {
    "interpreter": {
     "hash": "8caa3d8257df51217abe3f3d6c616091ac386792819c8553bf81ddb264746820"
    }
   }
  }
 },
 "nbformat": 4,
 "nbformat_minor": 2,
 "cells": [
  {
   "cell_type": "code",
   "execution_count": 17,
   "metadata": {},
   "outputs": [],
   "source": [
    "from bs4 import BeautifulSoup as bs\n",
    "import pandas as pd\n",
    "import requests as req\n",
    "from splinter import Browser\n",
    "from selenium import webdriver\n",
    "import time\n",
    "import pymongo"
   ]
  },
  {
   "cell_type": "code",
   "execution_count": 18,
   "metadata": {},
   "outputs": [],
   "source": [
    "conn = 'mongodb://localhost:27017'\n",
    "client = pymongo.MongoClient(conn)"
   ]
  },
  {
   "cell_type": "code",
   "execution_count": 19,
   "metadata": {},
   "outputs": [],
   "source": [
    "db = client.nfl_db\n",
    "collection = db.teams"
   ]
  },
  {
   "cell_type": "code",
   "execution_count": 23,
   "metadata": {},
   "outputs": [],
   "source": [
    "executable_path = {'executable_path': 'chromedriver.exe'}\n",
    "browser = Browser('chrome', **executable_path, headless=False)"
   ]
  },
  {
   "cell_type": "code",
   "execution_count": 24,
   "metadata": {},
   "outputs": [],
   "source": [
    "years = [2015, 2016, 2017, 2018, 2019]\n",
    "abbs =['buf', 'nwe','mia','nyj','oti','clt','htx','jax','pit','cle','rav','cin','kan','rai','den','sdg','dal','phi','was','nyg','car','nor','tam','atl','gnb','chi','det','min','sea','ram','crd','sfo']\n"
   ]
  },
  {
   "cell_type": "code",
   "execution_count": 97,
   "metadata": {},
   "outputs": [],
   "source": [
    "for abb in abbs:\n",
    "    url = f\"https://www.pro-football-reference.com/teams/{abb}/2015.htm\"\n",
    "    browser.visit(url)\n",
    "    time.sleep(5)\n",
    "    \n",
    "    for year in years:\n",
    "\n",
    "\n",
    "        url = f\"https://www.pro-football-reference.com/teams/{abb}/{year}.htm\"\n",
    "        browser.visit(url)\n",
    "        time.sleep(5)\n",
    "        html = browser.html\n",
    "        soup = bs(html, \"html.parser\")\n",
    "        info = soup.find('div', {'data-template':'Partials/Teams/Summary'})\n",
    "        team = info.find('h1')\n",
    "        yearscraped = team.find_all('span')[0].text\n",
    "        team_name = team.find_all('span')[1].text\n",
    "        coach = info.find_all('p')[1]\n",
    "        name = coach.find('a').text\n",
    "        strong = info.find_all('p')[8] \n",
    "        strong2 = info.find_all('p')[9]\n",
    "        if strong.find('strong').text == \"Stadium:\": \n",
    "            stadium_name = strong.find('a').text\n",
    "        elif strong2.find('strong').text == \"Stadium:\":\n",
    "            stadium_name = strong2.find('a').text\n",
    "        else: \n",
    "            stadium = info.find_all('p')[10]\n",
    "            stadium_name = stadium.find('a').text     \n",
    "        #stadium_name = stadium.find('a').text \n",
    "        \n",
    "        team_data = {\n",
    "        \n",
    "        \"year\": yearscraped,   \n",
    "        \"team\": team_name,\n",
    "        \"coach\": name,\n",
    "        \"stadium\": stadium_name\n",
    "        }\n",
    "        \n",
    "        collection.insert_one(team_data)\n",
    "        \n",
    "\n",
    "        "
   ]
  },
  {
   "cell_type": "code",
   "execution_count": 47,
   "metadata": {},
   "outputs": [
    {
     "output_type": "execute_result",
     "data": {
      "text/plain": [
       "{'year': '2019',\n",
       " 'team': 'Tennessee Titans',\n",
       " 'coach': 'Mike Vrabel',\n",
       " 'stadium': 'Nissan Stadium',\n",
       " '_id': ObjectId('5f91bc01024730783ffd1e2c')}"
      ]
     },
     "metadata": {},
     "execution_count": 47
    }
   ],
   "source": [
    "team_data"
   ]
  },
  {
   "cell_type": "code",
   "execution_count": 48,
   "metadata": {},
   "outputs": [
    {
     "output_type": "error",
     "ename": "SyntaxError",
     "evalue": "invalid syntax (<ipython-input-48-06f8abeee5e5>, line 2)",
     "traceback": [
      "\u001b[1;36m  File \u001b[1;32m\"<ipython-input-48-06f8abeee5e5>\"\u001b[1;36m, line \u001b[1;32m2\u001b[0m\n\u001b[1;33m    if strong.find('strong').text == 'Stadium:'\u001b[0m\n\u001b[1;37m                                               ^\u001b[0m\n\u001b[1;31mSyntaxError\u001b[0m\u001b[1;31m:\u001b[0m invalid syntax\n"
     ]
    }
   ],
   "source": [
    "strong = info.find_all('p')[9]\n",
    "if strong.find('strong').text == 'Stadium:': \n",
    "\n",
    "strong.text"
   ]
  },
  {
   "cell_type": "code",
   "execution_count": 61,
   "metadata": {},
   "outputs": [
    {
     "output_type": "execute_result",
     "data": {
      "text/plain": [
       "<p><strong>Stadium:</strong> <a href=\"/stadiums/NAS00.htm\">Nissan Stadium</a></p>"
      ]
     },
     "metadata": {},
     "execution_count": 61
    }
   ],
   "source": [
    " if strong.text == \"Stadium:\": \n",
    "            stadium = info.find_all('p')[9].text\n",
    "            stadium_name = stadium.find('a').text \n",
    "else: \n",
    "            stadium = info.find_all('p')[10]\n",
    "            stadium_name = stadium.find('a').text\n",
    "info.find_all('p')[10]"
   ]
  },
  {
   "cell_type": "code",
   "execution_count": 94,
   "metadata": {},
   "outputs": [],
   "source": [
    "url = 'https://www.pro-football-reference.com/teams/buf/2015.htm'\n",
    "browser.visit(url)\n",
    "time.sleep(5)\n",
    "html = browser.html\n",
    "soup = bs(html, \"html.parser\")\n",
    "info = soup.find('div', {'data-template':'Partials/Teams/Summary'})\n",
    "team = info.find('h1')\n",
    "yearscraped = team.find_all('span')[0].text\n",
    "team_name = team.find_all('span')[1].text\n",
    "coach = info.find_all('p')[1]\n",
    "name = coach.find('a').text\n",
    "strong = info.find_all('p')[8] \n",
    "strong2 = info.find_all('p')[9]\n",
    "if strong.find('strong').text == \"Stadium:\": \n",
    "    stadium_name = strong.find('a').text\n",
    "elif strong2.find('strong').text == \"Stadium:\":\n",
    "    stadium_name = strong2.find('a').text\n",
    "else: \n",
    "    stadium = info.find_all('p')[10]\n",
    "    stadium_name = stadium.find('a').text     \n"
   ]
  },
  {
   "cell_type": "code",
   "execution_count": 95,
   "metadata": {},
   "outputs": [
    {
     "output_type": "execute_result",
     "data": {
      "text/plain": [
       "'Ralph Wilson Stadium'"
      ]
     },
     "metadata": {},
     "execution_count": 95
    }
   ],
   "source": [
    "stadium_name"
   ]
  },
  {
   "cell_type": "code",
   "execution_count": 82,
   "metadata": {},
   "outputs": [
    {
     "output_type": "execute_result",
     "data": {
      "text/plain": [
       "'Ralph Wilson Stadium'"
      ]
     },
     "metadata": {},
     "execution_count": 82
    }
   ],
   "source": [
    "strong.find('a').text"
   ]
  },
  {
   "cell_type": "code",
   "execution_count": 84,
   "metadata": {},
   "outputs": [
    {
     "output_type": "execute_result",
     "data": {
      "text/plain": [
       "'Stadium:'"
      ]
     },
     "metadata": {},
     "execution_count": 84
    }
   ],
   "source": [
    "strong"
   ]
  }
 ]
}