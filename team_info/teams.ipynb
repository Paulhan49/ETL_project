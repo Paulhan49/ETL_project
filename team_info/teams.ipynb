{
 "metadata": {
  "language_info": {
   "codemirror_mode": {
    "name": "ipython",
    "version": 3
   },
   "file_extension": ".py",
   "mimetype": "text/x-python",
   "name": "python",
   "nbconvert_exporter": "python",
   "pygments_lexer": "ipython3",
   "version": "3.6.10-final"
  },
  "orig_nbformat": 2,
  "kernelspec": {
   "name": "Python 3.6.10 64-bit ('PythonData': conda)",
   "display_name": "Python 3.6.10 64-bit ('PythonData': conda)",
   "metadata": {
    "interpreter": {
     "hash": "efa804887361d121f52264c6efbf07398d055e6daa09099da54060c788310a3d"
    }
   }
  }
 },
 "nbformat": 4,
 "nbformat_minor": 2,
 "cells": [
  {
   "cell_type": "code",
   "execution_count": 223,
   "metadata": {},
   "outputs": [],
   "source": [
    "#Imports & Dependencies\n",
    "from splinter import Browser\n",
    "from bs4 import BeautifulSoup as bs\n",
    "import time\n",
    "import pandas as pd\n",
    "import pymongo"
   ]
  },
  {
   "cell_type": "code",
   "execution_count": 224,
   "metadata": {},
   "outputs": [
    {
     "output_type": "error",
     "ename": "WebDriverException",
     "evalue": "Message: chrome not reachable\n  (Session info: chrome=86.0.4240.75)\n",
     "traceback": [
      "\u001b[1;31m---------------------------------------------------------------------------\u001b[0m",
      "\u001b[1;31mWebDriverException\u001b[0m                        Traceback (most recent call last)",
      "\u001b[1;32m<ipython-input-224-6e4be38ec8f1>\u001b[0m in \u001b[0;36m<module>\u001b[1;34m\u001b[0m\n\u001b[0;32m      1\u001b[0m \u001b[0mteams_url\u001b[0m \u001b[1;33m=\u001b[0m \u001b[1;34m\"https://www.pro-football-reference.com/years/2019/attendance.htm\"\u001b[0m\u001b[1;33m\u001b[0m\u001b[1;33m\u001b[0m\u001b[0m\n\u001b[1;32m----> 2\u001b[1;33m \u001b[0mbrowser\u001b[0m\u001b[1;33m.\u001b[0m\u001b[0mvisit\u001b[0m\u001b[1;33m(\u001b[0m\u001b[0mteams_url\u001b[0m\u001b[1;33m)\u001b[0m\u001b[1;33m\u001b[0m\u001b[1;33m\u001b[0m\u001b[0m\n\u001b[0m\u001b[0;32m      3\u001b[0m \u001b[0mteams_html\u001b[0m \u001b[1;33m=\u001b[0m \u001b[0mbrowser\u001b[0m\u001b[1;33m.\u001b[0m\u001b[0mhtml\u001b[0m\u001b[1;33m\u001b[0m\u001b[1;33m\u001b[0m\u001b[0m\n\u001b[0;32m      4\u001b[0m \u001b[0msoup\u001b[0m \u001b[1;33m=\u001b[0m \u001b[0mbs\u001b[0m\u001b[1;33m(\u001b[0m\u001b[0mteams_html\u001b[0m\u001b[1;33m,\u001b[0m \u001b[1;34m\"html.parser\"\u001b[0m\u001b[1;33m)\u001b[0m\u001b[1;33m\u001b[0m\u001b[1;33m\u001b[0m\u001b[0m\n",
      "\u001b[1;32m~\\anaconda3\\envs\\PythonData\\lib\\site-packages\\splinter\\driver\\webdriver\\__init__.py\u001b[0m in \u001b[0;36mvisit\u001b[1;34m(self, url)\u001b[0m\n\u001b[0;32m    285\u001b[0m \u001b[1;33m\u001b[0m\u001b[0m\n\u001b[0;32m    286\u001b[0m     \u001b[1;32mdef\u001b[0m \u001b[0mvisit\u001b[0m\u001b[1;33m(\u001b[0m\u001b[0mself\u001b[0m\u001b[1;33m,\u001b[0m \u001b[0murl\u001b[0m\u001b[1;33m)\u001b[0m\u001b[1;33m:\u001b[0m\u001b[1;33m\u001b[0m\u001b[1;33m\u001b[0m\u001b[0m\n\u001b[1;32m--> 287\u001b[1;33m         \u001b[0mself\u001b[0m\u001b[1;33m.\u001b[0m\u001b[0mdriver\u001b[0m\u001b[1;33m.\u001b[0m\u001b[0mget\u001b[0m\u001b[1;33m(\u001b[0m\u001b[0murl\u001b[0m\u001b[1;33m)\u001b[0m\u001b[1;33m\u001b[0m\u001b[1;33m\u001b[0m\u001b[0m\n\u001b[0m\u001b[0;32m    288\u001b[0m \u001b[1;33m\u001b[0m\u001b[0m\n\u001b[0;32m    289\u001b[0m     \u001b[1;32mdef\u001b[0m \u001b[0mback\u001b[0m\u001b[1;33m(\u001b[0m\u001b[0mself\u001b[0m\u001b[1;33m)\u001b[0m\u001b[1;33m:\u001b[0m\u001b[1;33m\u001b[0m\u001b[1;33m\u001b[0m\u001b[0m\n",
      "\u001b[1;32m~\\anaconda3\\envs\\PythonData\\lib\\site-packages\\selenium\\webdriver\\remote\\webdriver.py\u001b[0m in \u001b[0;36mget\u001b[1;34m(self, url)\u001b[0m\n\u001b[0;32m    331\u001b[0m         \u001b[0mLoads\u001b[0m \u001b[0ma\u001b[0m \u001b[0mweb\u001b[0m \u001b[0mpage\u001b[0m \u001b[1;32min\u001b[0m \u001b[0mthe\u001b[0m \u001b[0mcurrent\u001b[0m \u001b[0mbrowser\u001b[0m \u001b[0msession\u001b[0m\u001b[1;33m.\u001b[0m\u001b[1;33m\u001b[0m\u001b[1;33m\u001b[0m\u001b[0m\n\u001b[0;32m    332\u001b[0m         \"\"\"\n\u001b[1;32m--> 333\u001b[1;33m         \u001b[0mself\u001b[0m\u001b[1;33m.\u001b[0m\u001b[0mexecute\u001b[0m\u001b[1;33m(\u001b[0m\u001b[0mCommand\u001b[0m\u001b[1;33m.\u001b[0m\u001b[0mGET\u001b[0m\u001b[1;33m,\u001b[0m \u001b[1;33m{\u001b[0m\u001b[1;34m'url'\u001b[0m\u001b[1;33m:\u001b[0m \u001b[0murl\u001b[0m\u001b[1;33m}\u001b[0m\u001b[1;33m)\u001b[0m\u001b[1;33m\u001b[0m\u001b[1;33m\u001b[0m\u001b[0m\n\u001b[0m\u001b[0;32m    334\u001b[0m \u001b[1;33m\u001b[0m\u001b[0m\n\u001b[0;32m    335\u001b[0m     \u001b[1;33m@\u001b[0m\u001b[0mproperty\u001b[0m\u001b[1;33m\u001b[0m\u001b[1;33m\u001b[0m\u001b[0m\n",
      "\u001b[1;32m~\\anaconda3\\envs\\PythonData\\lib\\site-packages\\selenium\\webdriver\\remote\\webdriver.py\u001b[0m in \u001b[0;36mexecute\u001b[1;34m(self, driver_command, params)\u001b[0m\n\u001b[0;32m    319\u001b[0m         \u001b[0mresponse\u001b[0m \u001b[1;33m=\u001b[0m \u001b[0mself\u001b[0m\u001b[1;33m.\u001b[0m\u001b[0mcommand_executor\u001b[0m\u001b[1;33m.\u001b[0m\u001b[0mexecute\u001b[0m\u001b[1;33m(\u001b[0m\u001b[0mdriver_command\u001b[0m\u001b[1;33m,\u001b[0m \u001b[0mparams\u001b[0m\u001b[1;33m)\u001b[0m\u001b[1;33m\u001b[0m\u001b[1;33m\u001b[0m\u001b[0m\n\u001b[0;32m    320\u001b[0m         \u001b[1;32mif\u001b[0m \u001b[0mresponse\u001b[0m\u001b[1;33m:\u001b[0m\u001b[1;33m\u001b[0m\u001b[1;33m\u001b[0m\u001b[0m\n\u001b[1;32m--> 321\u001b[1;33m             \u001b[0mself\u001b[0m\u001b[1;33m.\u001b[0m\u001b[0merror_handler\u001b[0m\u001b[1;33m.\u001b[0m\u001b[0mcheck_response\u001b[0m\u001b[1;33m(\u001b[0m\u001b[0mresponse\u001b[0m\u001b[1;33m)\u001b[0m\u001b[1;33m\u001b[0m\u001b[1;33m\u001b[0m\u001b[0m\n\u001b[0m\u001b[0;32m    322\u001b[0m             response['value'] = self._unwrap_value(\n\u001b[0;32m    323\u001b[0m                 response.get('value', None))\n",
      "\u001b[1;32m~\\anaconda3\\envs\\PythonData\\lib\\site-packages\\selenium\\webdriver\\remote\\errorhandler.py\u001b[0m in \u001b[0;36mcheck_response\u001b[1;34m(self, response)\u001b[0m\n\u001b[0;32m    240\u001b[0m                 \u001b[0malert_text\u001b[0m \u001b[1;33m=\u001b[0m \u001b[0mvalue\u001b[0m\u001b[1;33m[\u001b[0m\u001b[1;34m'alert'\u001b[0m\u001b[1;33m]\u001b[0m\u001b[1;33m.\u001b[0m\u001b[0mget\u001b[0m\u001b[1;33m(\u001b[0m\u001b[1;34m'text'\u001b[0m\u001b[1;33m)\u001b[0m\u001b[1;33m\u001b[0m\u001b[1;33m\u001b[0m\u001b[0m\n\u001b[0;32m    241\u001b[0m             \u001b[1;32mraise\u001b[0m \u001b[0mexception_class\u001b[0m\u001b[1;33m(\u001b[0m\u001b[0mmessage\u001b[0m\u001b[1;33m,\u001b[0m \u001b[0mscreen\u001b[0m\u001b[1;33m,\u001b[0m \u001b[0mstacktrace\u001b[0m\u001b[1;33m,\u001b[0m \u001b[0malert_text\u001b[0m\u001b[1;33m)\u001b[0m\u001b[1;33m\u001b[0m\u001b[1;33m\u001b[0m\u001b[0m\n\u001b[1;32m--> 242\u001b[1;33m         \u001b[1;32mraise\u001b[0m \u001b[0mexception_class\u001b[0m\u001b[1;33m(\u001b[0m\u001b[0mmessage\u001b[0m\u001b[1;33m,\u001b[0m \u001b[0mscreen\u001b[0m\u001b[1;33m,\u001b[0m \u001b[0mstacktrace\u001b[0m\u001b[1;33m)\u001b[0m\u001b[1;33m\u001b[0m\u001b[1;33m\u001b[0m\u001b[0m\n\u001b[0m\u001b[0;32m    243\u001b[0m \u001b[1;33m\u001b[0m\u001b[0m\n\u001b[0;32m    244\u001b[0m     \u001b[1;32mdef\u001b[0m \u001b[0m_value_or_default\u001b[0m\u001b[1;33m(\u001b[0m\u001b[0mself\u001b[0m\u001b[1;33m,\u001b[0m \u001b[0mobj\u001b[0m\u001b[1;33m,\u001b[0m \u001b[0mkey\u001b[0m\u001b[1;33m,\u001b[0m \u001b[0mdefault\u001b[0m\u001b[1;33m)\u001b[0m\u001b[1;33m:\u001b[0m\u001b[1;33m\u001b[0m\u001b[1;33m\u001b[0m\u001b[0m\n",
      "\u001b[1;31mWebDriverException\u001b[0m: Message: chrome not reachable\n  (Session info: chrome=86.0.4240.75)\n"
     ]
    }
   ],
   "source": [
    "teams_url = \"https://www.pro-football-reference.com/years/2019/attendance.htm\"\n",
    "browser.visit(teams_url)\n",
    "teams_html = browser.html\n",
    "soup = bs(teams_html, \"html.parser\")\n"
   ]
  },
  {
   "cell_type": "code",
   "execution_count": 213,
   "metadata": {},
   "outputs": [],
   "source": [
    "facts = soup.find(\"div\", class_=\"overthrow table_container\", id_=\"div_attendance\")\n",
    "tables = pd.read_html(teams_url)\n",
    "df = tables[0]\n",
    "# Drop NAN in data frame\n",
    "df_dropna = df.dropna()\n"
   ]
  },
  {
   "cell_type": "code",
   "execution_count": 214,
   "metadata": {},
   "outputs": [],
   "source": [
    "abbreviation = [\"crd\", \"atl\", \"rav\", \"buf\", \"car\", \"chi\", \"cin\", \"cle\", \"dal\", \"den\", \"det\", \"gnb\", \"htx\", \"clt\", \"jax\", \"kan\", \"sdg\", \"ram\", \"mia\", \"min\", \"nwe\", \"nor\", \"nyg\", \"nyj\", \"rai\", \"phi\", \"pit\", \"sfo\", \"sea\", \"tam\", \"oti\", \"was\"]"
   ]
  },
  {
   "cell_type": "code",
   "execution_count": 215,
   "metadata": {},
   "outputs": [
    {
     "output_type": "execute_result",
     "data": {
      "text/plain": [
       "pandas.core.frame.DataFrame"
      ]
     },
     "metadata": {},
     "execution_count": 215
    }
   ],
   "source": [
    "# Add \"Abbrevation\" column in dataframe\n",
    "df_dropna['Abbrevation'] = abbreviation\n",
    "\n",
    "# Rename Tm to Team\n",
    "df_dropna = df_dropna.rename(columns={\"Tm\": 'Team'})\n",
    "type(df_dropna)\n",
    "\n"
   ]
  },
  {
   "cell_type": "code",
   "execution_count": 216,
   "metadata": {},
   "outputs": [
    {
     "output_type": "execute_result",
     "data": {
      "text/plain": [
       "                    Team Abbrevation\n",
       "0      Arizona Cardinals         crd\n",
       "1        Atlanta Falcons         atl\n",
       "2       Baltimore Ravens         rav\n",
       "3          Buffalo Bills         buf\n",
       "4      Carolina Panthers         car\n",
       "5          Chicago Bears         chi\n",
       "6     Cincinnati Bengals         cin\n",
       "7       Cleveland Browns         cle\n",
       "8         Dallas Cowboys         dal\n",
       "9         Denver Broncos         den\n",
       "10         Detroit Lions         det\n",
       "11     Green Bay Packers         gnb\n",
       "12        Houston Texans         htx\n",
       "13    Indianapolis Colts         clt\n",
       "14  Jacksonville Jaguars         jax\n",
       "15    Kansas City Chiefs         kan\n",
       "16  Los Angeles Chargers         sdg\n",
       "17      Los Angeles Rams         ram\n",
       "18        Miami Dolphins         mia\n",
       "19     Minnesota Vikings         min\n",
       "20  New England Patriots         nwe\n",
       "21    New Orleans Saints         nor\n",
       "22       New York Giants         nyg\n",
       "23         New York Jets         nyj\n",
       "24       Oakland Raiders         rai\n",
       "25   Philadelphia Eagles         phi\n",
       "26   Pittsburgh Steelers         pit\n",
       "27   San Francisco 49ers         sfo\n",
       "28      Seattle Seahawks         sea\n",
       "29  Tampa Bay Buccaneers         tam\n",
       "30      Tennessee Titans         oti\n",
       "31   Washington Redskins         was"
      ],
      "text/html": "<div>\n<style scoped>\n    .dataframe tbody tr th:only-of-type {\n        vertical-align: middle;\n    }\n\n    .dataframe tbody tr th {\n        vertical-align: top;\n    }\n\n    .dataframe thead th {\n        text-align: right;\n    }\n</style>\n<table border=\"1\" class=\"dataframe\">\n  <thead>\n    <tr style=\"text-align: right;\">\n      <th></th>\n      <th>Team</th>\n      <th>Abbrevation</th>\n    </tr>\n  </thead>\n  <tbody>\n    <tr>\n      <th>0</th>\n      <td>Arizona Cardinals</td>\n      <td>crd</td>\n    </tr>\n    <tr>\n      <th>1</th>\n      <td>Atlanta Falcons</td>\n      <td>atl</td>\n    </tr>\n    <tr>\n      <th>2</th>\n      <td>Baltimore Ravens</td>\n      <td>rav</td>\n    </tr>\n    <tr>\n      <th>3</th>\n      <td>Buffalo Bills</td>\n      <td>buf</td>\n    </tr>\n    <tr>\n      <th>4</th>\n      <td>Carolina Panthers</td>\n      <td>car</td>\n    </tr>\n    <tr>\n      <th>5</th>\n      <td>Chicago Bears</td>\n      <td>chi</td>\n    </tr>\n    <tr>\n      <th>6</th>\n      <td>Cincinnati Bengals</td>\n      <td>cin</td>\n    </tr>\n    <tr>\n      <th>7</th>\n      <td>Cleveland Browns</td>\n      <td>cle</td>\n    </tr>\n    <tr>\n      <th>8</th>\n      <td>Dallas Cowboys</td>\n      <td>dal</td>\n    </tr>\n    <tr>\n      <th>9</th>\n      <td>Denver Broncos</td>\n      <td>den</td>\n    </tr>\n    <tr>\n      <th>10</th>\n      <td>Detroit Lions</td>\n      <td>det</td>\n    </tr>\n    <tr>\n      <th>11</th>\n      <td>Green Bay Packers</td>\n      <td>gnb</td>\n    </tr>\n    <tr>\n      <th>12</th>\n      <td>Houston Texans</td>\n      <td>htx</td>\n    </tr>\n    <tr>\n      <th>13</th>\n      <td>Indianapolis Colts</td>\n      <td>clt</td>\n    </tr>\n    <tr>\n      <th>14</th>\n      <td>Jacksonville Jaguars</td>\n      <td>jax</td>\n    </tr>\n    <tr>\n      <th>15</th>\n      <td>Kansas City Chiefs</td>\n      <td>kan</td>\n    </tr>\n    <tr>\n      <th>16</th>\n      <td>Los Angeles Chargers</td>\n      <td>sdg</td>\n    </tr>\n    <tr>\n      <th>17</th>\n      <td>Los Angeles Rams</td>\n      <td>ram</td>\n    </tr>\n    <tr>\n      <th>18</th>\n      <td>Miami Dolphins</td>\n      <td>mia</td>\n    </tr>\n    <tr>\n      <th>19</th>\n      <td>Minnesota Vikings</td>\n      <td>min</td>\n    </tr>\n    <tr>\n      <th>20</th>\n      <td>New England Patriots</td>\n      <td>nwe</td>\n    </tr>\n    <tr>\n      <th>21</th>\n      <td>New Orleans Saints</td>\n      <td>nor</td>\n    </tr>\n    <tr>\n      <th>22</th>\n      <td>New York Giants</td>\n      <td>nyg</td>\n    </tr>\n    <tr>\n      <th>23</th>\n      <td>New York Jets</td>\n      <td>nyj</td>\n    </tr>\n    <tr>\n      <th>24</th>\n      <td>Oakland Raiders</td>\n      <td>rai</td>\n    </tr>\n    <tr>\n      <th>25</th>\n      <td>Philadelphia Eagles</td>\n      <td>phi</td>\n    </tr>\n    <tr>\n      <th>26</th>\n      <td>Pittsburgh Steelers</td>\n      <td>pit</td>\n    </tr>\n    <tr>\n      <th>27</th>\n      <td>San Francisco 49ers</td>\n      <td>sfo</td>\n    </tr>\n    <tr>\n      <th>28</th>\n      <td>Seattle Seahawks</td>\n      <td>sea</td>\n    </tr>\n    <tr>\n      <th>29</th>\n      <td>Tampa Bay Buccaneers</td>\n      <td>tam</td>\n    </tr>\n    <tr>\n      <th>30</th>\n      <td>Tennessee Titans</td>\n      <td>oti</td>\n    </tr>\n    <tr>\n      <th>31</th>\n      <td>Washington Redskins</td>\n      <td>was</td>\n    </tr>\n  </tbody>\n</table>\n</div>"
     },
     "metadata": {},
     "execution_count": 216
    }
   ],
   "source": [
    "# Only selecet Team and Abbrevation columns\n",
    "new_df = df_dropna.drop(columns=['Total', 'Home', 'Away','Week 1', 'Week 2', 'Week 3', 'Week 4', 'Week 5', 'Week 6', 'Week 7', 'Week 8', 'Week 9', 'Week 10', 'Week 11', 'Week 12', 'Week 13', 'Week 14', 'Week 15', 'Week 16', 'Week 17'])\n",
    "\n",
    "new_df\n"
   ]
  },
  {
   "cell_type": "code",
   "execution_count": 217,
   "metadata": {},
   "outputs": [],
   "source": [
    "# Make a list of the years\n",
    "years = [2015, 2016, 2017, 2018, 2019]\n",
    "abbs = [\"crd\", \"atl\", \"rav\", \"buf\", \"car\", \"chi\", \"cin\", \"cle\", \"dal\", \"den\", \"det\", \"gnb\", \"htx\", \"clt\", \"jax\", \"kan\", \"sdg\", \"ram\", \"mia\", \"min\", \"nwe\", \"nor\", \"nyg\", \"nyj\", \"rai\", \"phi\", \"pit\", \"sfo\", \"sea\", \"tam\", \"oti\", \"was\"]\n",
    "name = []\n",
    "sname = []\n",
    "team_data = { \"coach\": name, \"Stadium\": sname}\n",
    "\n"
   ]
  },
  {
   "cell_type": "code",
   "execution_count": 218,
   "metadata": {},
   "outputs": [
    {
     "output_type": "error",
     "ename": "FeatureNotFound",
     "evalue": "Couldn't find a tree builder with the features you requested: html_parser. Do you need to install a parser library?",
     "traceback": [
      "\u001b[1;31m---------------------------------------------------------------------------\u001b[0m",
      "\u001b[1;31mFeatureNotFound\u001b[0m                           Traceback (most recent call last)",
      "\u001b[1;32m<ipython-input-218-5a7f6a0c2100>\u001b[0m in \u001b[0;36m<module>\u001b[1;34m\u001b[0m\n\u001b[0;32m      4\u001b[0m     \u001b[0mbrowser\u001b[0m\u001b[1;33m.\u001b[0m\u001b[0mvisit\u001b[0m\u001b[1;33m(\u001b[0m\u001b[0mabb_url\u001b[0m\u001b[1;33m)\u001b[0m\u001b[1;33m\u001b[0m\u001b[1;33m\u001b[0m\u001b[0m\n\u001b[0;32m      5\u001b[0m     \u001b[0mabb_html\u001b[0m \u001b[1;33m=\u001b[0m \u001b[0mbrowser\u001b[0m\u001b[1;33m.\u001b[0m\u001b[0mhtml\u001b[0m\u001b[1;33m\u001b[0m\u001b[1;33m\u001b[0m\u001b[0m\n\u001b[1;32m----> 6\u001b[1;33m     \u001b[0msoup\u001b[0m \u001b[1;33m=\u001b[0m \u001b[0mbs\u001b[0m\u001b[1;33m(\u001b[0m\u001b[0mabb_html\u001b[0m\u001b[1;33m,\u001b[0m \u001b[1;34m\"html_parser\"\u001b[0m\u001b[1;33m)\u001b[0m\u001b[1;33m\u001b[0m\u001b[1;33m\u001b[0m\u001b[0m\n\u001b[0m\u001b[0;32m      7\u001b[0m     \u001b[1;31m# Scrape coach name\u001b[0m\u001b[1;33m\u001b[0m\u001b[1;33m\u001b[0m\u001b[1;33m\u001b[0m\u001b[0m\n\u001b[0;32m      8\u001b[0m     \u001b[0minfo\u001b[0m \u001b[1;33m=\u001b[0m \u001b[0msoup\u001b[0m\u001b[1;33m.\u001b[0m\u001b[0mfind\u001b[0m\u001b[1;33m(\u001b[0m\u001b[1;34m\"div\"\u001b[0m\u001b[1;33m,\u001b[0m \u001b[1;33m{\u001b[0m\u001b[1;34m\"data-template\"\u001b[0m\u001b[1;33m:\u001b[0m\u001b[1;34m\"Partials/Teams/Summary\"\u001b[0m\u001b[1;33m}\u001b[0m\u001b[1;33m)\u001b[0m\u001b[1;33m\u001b[0m\u001b[1;33m\u001b[0m\u001b[0m\n",
      "\u001b[1;32m~\\anaconda3\\envs\\PythonData\\lib\\site-packages\\bs4\\__init__.py\u001b[0m in \u001b[0;36m__init__\u001b[1;34m(self, markup, features, builder, parse_only, from_encoding, exclude_encodings, element_classes, **kwargs)\u001b[0m\n\u001b[0;32m    243\u001b[0m                     \u001b[1;34m\"Couldn't find a tree builder with the features you \"\u001b[0m\u001b[1;33m\u001b[0m\u001b[1;33m\u001b[0m\u001b[0m\n\u001b[0;32m    244\u001b[0m                     \u001b[1;34m\"requested: %s. Do you need to install a parser library?\"\u001b[0m\u001b[1;33m\u001b[0m\u001b[1;33m\u001b[0m\u001b[0m\n\u001b[1;32m--> 245\u001b[1;33m                     % \",\".join(features))\n\u001b[0m\u001b[0;32m    246\u001b[0m \u001b[1;33m\u001b[0m\u001b[0m\n\u001b[0;32m    247\u001b[0m         \u001b[1;31m# At this point either we have a TreeBuilder instance in\u001b[0m\u001b[1;33m\u001b[0m\u001b[1;33m\u001b[0m\u001b[1;33m\u001b[0m\u001b[0m\n",
      "\u001b[1;31mFeatureNotFound\u001b[0m: Couldn't find a tree builder with the features you requested: html_parser. Do you need to install a parser library?"
     ]
    }
   ],
   "source": [
    "# Loop coach name and Stadium name \n",
    "for abb in abbs:\n",
    "    abb_url = f\"https://www.pro-football-reference.com/teams/{abb}/2015.htm\"\n",
    "    browser.visit(abb_url)\n",
    "    time.sleep(5)\n",
    "    \n",
    "# Loop coach name and Stadium name during 2015-2019\n",
    "    for year in years:\n",
    "        year_url = f\"https://www.pro-football-reference.com/teams/{abb}/{year}.htm\"\n",
    "        browser.visit(year_url)\n",
    "        year_html = browser.html\n",
    "        soup = bs(year_html, \"html_parser\")\n",
    "        # Scrape coach name\n",
    "        info = soup.find(\"div\", {\"data-template\":\"Partials/Teams/Summary\"})\n",
    "        coach = info.find(\"p\")[1]\n",
    "        name = coach.find(\"a\").text\n",
    "        # Scrape team name and year\n",
    "        team = info.find('h1')\n",
    "        yearscraped = team.find_all('span')[0].text\n",
    "        tname = team.find_all('span')[1].text\n",
    "        # Scrape stadium name\n",
    "        stadium = info.find(\"p\")[9]\n",
    "        sname = stadium.find(\"a\").text\n",
    "        # append coach name and stadium name in team data\n",
    "        team_data.append({\"Year\": yearscraped, \"Team\": tname, \"Coach\": name, \"Stadium\": sname})\n",
    "\n"
   ]
  }
 ]
}