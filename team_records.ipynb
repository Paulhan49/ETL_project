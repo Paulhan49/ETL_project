{
 "metadata": {
  "language_info": {
   "codemirror_mode": {
    "name": "ipython",
    "version": 3
   },
   "file_extension": ".py",
   "mimetype": "text/x-python",
   "name": "python",
   "nbconvert_exporter": "python",
   "pygments_lexer": "ipython3",
   "version": "3.6.10-final"
  },
  "orig_nbformat": 2,
  "kernelspec": {
   "name": "Python 3.6.10 64-bit ('PythonData': conda)",
   "display_name": "Python 3.6.10 64-bit ('PythonData': conda)",
   "metadata": {
    "interpreter": {
     "hash": "efa804887361d121f52264c6efbf07398d055e6daa09099da54060c788310a3d"
    }
   }
  }
 },
 "nbformat": 4,
 "nbformat_minor": 2,
 "cells": [
  {
   "cell_type": "code",
   "execution_count": 82,
   "metadata": {},
   "outputs": [],
   "source": [
    "import pandas as pd \n",
    "import numpy as np\n",
    "import matplotlib.pyplot as plt\n",
    "import scipy.stats as st"
   ]
  },
  {
   "cell_type": "code",
   "execution_count": 83,
   "metadata": {},
   "outputs": [],
   "source": [
    "# File to Load (Remember to Change These)\n",
    "record_2015 = \"data/2015record.csv\"\n",
    "record_2016 = \"data/2016record.csv\"\n",
    "record_2017 = \"data/2017record.csv\"\n",
    "record_2018 = \"data/2018record.csv\"\n",
    "record_2019 = \"data/2019record.csv\"\n",
    "\n",
    "# Read Purchasing File and store into Pandas data frame\n",
    "teams_record_2015 = pd.read_csv(record_2015)\n",
    "teams_record_2016 = pd.read_csv(record_2016)\n",
    "teams_record_2017 = pd.read_csv(record_2017)\n",
    "teams_record_2018 = pd.read_csv(record_2018)\n",
    "teams_record_2019 = pd.read_csv(record_2019)\n"
   ]
  },
  {
   "cell_type": "code",
   "execution_count": 84,
   "metadata": {},
   "outputs": [
    {
     "output_type": "error",
     "ename": "KeyError",
     "evalue": "'NFL Team'",
     "traceback": [
      "\u001b[1;31m---------------------------------------------------------------------------\u001b[0m",
      "\u001b[1;31mKeyError\u001b[0m                                  Traceback (most recent call last)",
      "\u001b[1;32m~\\anaconda3\\envs\\PythonData\\lib\\site-packages\\pandas\\core\\indexes\\base.py\u001b[0m in \u001b[0;36mget_loc\u001b[1;34m(self, key, method, tolerance)\u001b[0m\n\u001b[0;32m   2645\u001b[0m             \u001b[1;32mtry\u001b[0m\u001b[1;33m:\u001b[0m\u001b[1;33m\u001b[0m\u001b[1;33m\u001b[0m\u001b[0m\n\u001b[1;32m-> 2646\u001b[1;33m                 \u001b[1;32mreturn\u001b[0m \u001b[0mself\u001b[0m\u001b[1;33m.\u001b[0m\u001b[0m_engine\u001b[0m\u001b[1;33m.\u001b[0m\u001b[0mget_loc\u001b[0m\u001b[1;33m(\u001b[0m\u001b[0mkey\u001b[0m\u001b[1;33m)\u001b[0m\u001b[1;33m\u001b[0m\u001b[1;33m\u001b[0m\u001b[0m\n\u001b[0m\u001b[0;32m   2647\u001b[0m             \u001b[1;32mexcept\u001b[0m \u001b[0mKeyError\u001b[0m\u001b[1;33m:\u001b[0m\u001b[1;33m\u001b[0m\u001b[1;33m\u001b[0m\u001b[0m\n",
      "\u001b[1;32mpandas\\_libs\\index.pyx\u001b[0m in \u001b[0;36mpandas._libs.index.IndexEngine.get_loc\u001b[1;34m()\u001b[0m\n",
      "\u001b[1;32mpandas\\_libs\\index.pyx\u001b[0m in \u001b[0;36mpandas._libs.index.IndexEngine.get_loc\u001b[1;34m()\u001b[0m\n",
      "\u001b[1;32mpandas\\_libs\\hashtable_class_helper.pxi\u001b[0m in \u001b[0;36mpandas._libs.hashtable.PyObjectHashTable.get_item\u001b[1;34m()\u001b[0m\n",
      "\u001b[1;32mpandas\\_libs\\hashtable_class_helper.pxi\u001b[0m in \u001b[0;36mpandas._libs.hashtable.PyObjectHashTable.get_item\u001b[1;34m()\u001b[0m\n",
      "\u001b[1;31mKeyError\u001b[0m: 'NFL Team'",
      "\nDuring handling of the above exception, another exception occurred:\n",
      "\u001b[1;31mKeyError\u001b[0m                                  Traceback (most recent call last)",
      "\u001b[1;32m<ipython-input-84-0541fe486258>\u001b[0m in \u001b[0;36m<module>\u001b[1;34m\u001b[0m\n\u001b[0;32m     27\u001b[0m \u001b[0mclean_2015\u001b[0m\u001b[1;33m[\u001b[0m\u001b[1;34m'NFL Team'\u001b[0m\u001b[1;33m]\u001b[0m \u001b[1;33m=\u001b[0m \u001b[0mclean_2015\u001b[0m\u001b[1;33m[\u001b[0m\u001b[1;34m'NFL Team'\u001b[0m\u001b[1;33m]\u001b[0m\u001b[1;33m.\u001b[0m\u001b[0mstr\u001b[0m\u001b[1;33m.\u001b[0m\u001b[0mreplace\u001b[0m\u001b[1;33m(\u001b[0m\u001b[1;34mr'xy'\u001b[0m\u001b[1;33m,\u001b[0m \u001b[1;34m''\u001b[0m\u001b[1;33m)\u001b[0m\u001b[1;33m\u001b[0m\u001b[1;33m\u001b[0m\u001b[0m\n\u001b[0;32m     28\u001b[0m \u001b[0mclean_2015\u001b[0m\u001b[1;33m[\u001b[0m\u001b[1;34m'NFL Team'\u001b[0m\u001b[1;33m]\u001b[0m \u001b[1;33m=\u001b[0m \u001b[0mclean_2015\u001b[0m\u001b[1;33m[\u001b[0m\u001b[1;34m'NFL Team'\u001b[0m\u001b[1;33m]\u001b[0m\u001b[1;33m.\u001b[0m\u001b[0mstr\u001b[0m\u001b[1;33m.\u001b[0m\u001b[0mreplace\u001b[0m\u001b[1;33m(\u001b[0m\u001b[1;34mr'*'\u001b[0m\u001b[1;33m,\u001b[0m \u001b[1;34m''\u001b[0m\u001b[1;33m)\u001b[0m\u001b[1;33m\u001b[0m\u001b[1;33m\u001b[0m\u001b[0m\n\u001b[1;32m---> 29\u001b[1;33m \u001b[0mclean_2016\u001b[0m\u001b[1;33m[\u001b[0m\u001b[1;34m'NFL Team'\u001b[0m\u001b[1;33m]\u001b[0m \u001b[1;33m=\u001b[0m \u001b[0mclean_2016\u001b[0m\u001b[1;33m[\u001b[0m\u001b[1;34m'NFL Team'\u001b[0m\u001b[1;33m]\u001b[0m\u001b[1;33m.\u001b[0m\u001b[0mstr\u001b[0m\u001b[1;33m.\u001b[0m\u001b[0mreplace\u001b[0m\u001b[1;33m(\u001b[0m\u001b[1;34mr'\\b(\\w+)(\\s+\\1)+\\b'\u001b[0m\u001b[1;33m,\u001b[0m \u001b[1;34mr'\\1'\u001b[0m\u001b[1;33m)\u001b[0m\u001b[1;33m\u001b[0m\u001b[1;33m\u001b[0m\u001b[0m\n\u001b[0m\u001b[0;32m     30\u001b[0m \u001b[1;33m\u001b[0m\u001b[0m\n\u001b[0;32m     31\u001b[0m \u001b[0mclean_2015\u001b[0m \u001b[1;33m=\u001b[0m \u001b[0mclean_2015\u001b[0m\u001b[1;33m.\u001b[0m\u001b[0msort_values\u001b[0m\u001b[1;33m(\u001b[0m\u001b[0mby\u001b[0m\u001b[1;33m=\u001b[0m\u001b[1;34m\"NFL Team\"\u001b[0m\u001b[1;33m,\u001b[0m \u001b[0mascending\u001b[0m\u001b[1;33m=\u001b[0m\u001b[1;32mTrue\u001b[0m\u001b[1;33m)\u001b[0m\u001b[1;33m\u001b[0m\u001b[1;33m\u001b[0m\u001b[0m\n",
      "\u001b[1;32m~\\anaconda3\\envs\\PythonData\\lib\\site-packages\\pandas\\core\\frame.py\u001b[0m in \u001b[0;36m__getitem__\u001b[1;34m(self, key)\u001b[0m\n\u001b[0;32m   2798\u001b[0m             \u001b[1;32mif\u001b[0m \u001b[0mself\u001b[0m\u001b[1;33m.\u001b[0m\u001b[0mcolumns\u001b[0m\u001b[1;33m.\u001b[0m\u001b[0mnlevels\u001b[0m \u001b[1;33m>\u001b[0m \u001b[1;36m1\u001b[0m\u001b[1;33m:\u001b[0m\u001b[1;33m\u001b[0m\u001b[1;33m\u001b[0m\u001b[0m\n\u001b[0;32m   2799\u001b[0m                 \u001b[1;32mreturn\u001b[0m \u001b[0mself\u001b[0m\u001b[1;33m.\u001b[0m\u001b[0m_getitem_multilevel\u001b[0m\u001b[1;33m(\u001b[0m\u001b[0mkey\u001b[0m\u001b[1;33m)\u001b[0m\u001b[1;33m\u001b[0m\u001b[1;33m\u001b[0m\u001b[0m\n\u001b[1;32m-> 2800\u001b[1;33m             \u001b[0mindexer\u001b[0m \u001b[1;33m=\u001b[0m \u001b[0mself\u001b[0m\u001b[1;33m.\u001b[0m\u001b[0mcolumns\u001b[0m\u001b[1;33m.\u001b[0m\u001b[0mget_loc\u001b[0m\u001b[1;33m(\u001b[0m\u001b[0mkey\u001b[0m\u001b[1;33m)\u001b[0m\u001b[1;33m\u001b[0m\u001b[1;33m\u001b[0m\u001b[0m\n\u001b[0m\u001b[0;32m   2801\u001b[0m             \u001b[1;32mif\u001b[0m \u001b[0mis_integer\u001b[0m\u001b[1;33m(\u001b[0m\u001b[0mindexer\u001b[0m\u001b[1;33m)\u001b[0m\u001b[1;33m:\u001b[0m\u001b[1;33m\u001b[0m\u001b[1;33m\u001b[0m\u001b[0m\n\u001b[0;32m   2802\u001b[0m                 \u001b[0mindexer\u001b[0m \u001b[1;33m=\u001b[0m \u001b[1;33m[\u001b[0m\u001b[0mindexer\u001b[0m\u001b[1;33m]\u001b[0m\u001b[1;33m\u001b[0m\u001b[1;33m\u001b[0m\u001b[0m\n",
      "\u001b[1;32m~\\anaconda3\\envs\\PythonData\\lib\\site-packages\\pandas\\core\\indexes\\base.py\u001b[0m in \u001b[0;36mget_loc\u001b[1;34m(self, key, method, tolerance)\u001b[0m\n\u001b[0;32m   2646\u001b[0m                 \u001b[1;32mreturn\u001b[0m \u001b[0mself\u001b[0m\u001b[1;33m.\u001b[0m\u001b[0m_engine\u001b[0m\u001b[1;33m.\u001b[0m\u001b[0mget_loc\u001b[0m\u001b[1;33m(\u001b[0m\u001b[0mkey\u001b[0m\u001b[1;33m)\u001b[0m\u001b[1;33m\u001b[0m\u001b[1;33m\u001b[0m\u001b[0m\n\u001b[0;32m   2647\u001b[0m             \u001b[1;32mexcept\u001b[0m \u001b[0mKeyError\u001b[0m\u001b[1;33m:\u001b[0m\u001b[1;33m\u001b[0m\u001b[1;33m\u001b[0m\u001b[0m\n\u001b[1;32m-> 2648\u001b[1;33m                 \u001b[1;32mreturn\u001b[0m \u001b[0mself\u001b[0m\u001b[1;33m.\u001b[0m\u001b[0m_engine\u001b[0m\u001b[1;33m.\u001b[0m\u001b[0mget_loc\u001b[0m\u001b[1;33m(\u001b[0m\u001b[0mself\u001b[0m\u001b[1;33m.\u001b[0m\u001b[0m_maybe_cast_indexer\u001b[0m\u001b[1;33m(\u001b[0m\u001b[0mkey\u001b[0m\u001b[1;33m)\u001b[0m\u001b[1;33m)\u001b[0m\u001b[1;33m\u001b[0m\u001b[1;33m\u001b[0m\u001b[0m\n\u001b[0m\u001b[0;32m   2649\u001b[0m         \u001b[0mindexer\u001b[0m \u001b[1;33m=\u001b[0m \u001b[0mself\u001b[0m\u001b[1;33m.\u001b[0m\u001b[0mget_indexer\u001b[0m\u001b[1;33m(\u001b[0m\u001b[1;33m[\u001b[0m\u001b[0mkey\u001b[0m\u001b[1;33m]\u001b[0m\u001b[1;33m,\u001b[0m \u001b[0mmethod\u001b[0m\u001b[1;33m=\u001b[0m\u001b[0mmethod\u001b[0m\u001b[1;33m,\u001b[0m \u001b[0mtolerance\u001b[0m\u001b[1;33m=\u001b[0m\u001b[0mtolerance\u001b[0m\u001b[1;33m)\u001b[0m\u001b[1;33m\u001b[0m\u001b[1;33m\u001b[0m\u001b[0m\n\u001b[0;32m   2650\u001b[0m         \u001b[1;32mif\u001b[0m \u001b[0mindexer\u001b[0m\u001b[1;33m.\u001b[0m\u001b[0mndim\u001b[0m \u001b[1;33m>\u001b[0m \u001b[1;36m1\u001b[0m \u001b[1;32mor\u001b[0m \u001b[0mindexer\u001b[0m\u001b[1;33m.\u001b[0m\u001b[0msize\u001b[0m \u001b[1;33m>\u001b[0m \u001b[1;36m1\u001b[0m\u001b[1;33m:\u001b[0m\u001b[1;33m\u001b[0m\u001b[1;33m\u001b[0m\u001b[0m\n",
      "\u001b[1;32mpandas\\_libs\\index.pyx\u001b[0m in \u001b[0;36mpandas._libs.index.IndexEngine.get_loc\u001b[1;34m()\u001b[0m\n",
      "\u001b[1;32mpandas\\_libs\\index.pyx\u001b[0m in \u001b[0;36mpandas._libs.index.IndexEngine.get_loc\u001b[1;34m()\u001b[0m\n",
      "\u001b[1;32mpandas\\_libs\\hashtable_class_helper.pxi\u001b[0m in \u001b[0;36mpandas._libs.hashtable.PyObjectHashTable.get_item\u001b[1;34m()\u001b[0m\n",
      "\u001b[1;32mpandas\\_libs\\hashtable_class_helper.pxi\u001b[0m in \u001b[0;36mpandas._libs.hashtable.PyObjectHashTable.get_item\u001b[1;34m()\u001b[0m\n",
      "\u001b[1;31mKeyError\u001b[0m: 'NFL Team'"
     ]
    }
   ],
   "source": [
    "order_2015 = teams_record_2015.sort_values(by=\"NFL Team\", ascending=True)\n",
    "\n",
    "# Drop unecessary columns\n",
    "type(order_2015)\n",
    "\n",
    "new_record_2015 = order_2015.drop(columns=['Unnamed: 0', 'PCT', 'PF', 'PA', 'Net Pts', 'Home', 'Road', \"Div\", 'Pct', 'Conf', 'Pct.1', 'Non-Conf', 'Strk', 'Last 5'])\n",
    "\n",
    "# Rename W, L, T columns\n",
    "clean_2015 = new_record_2015.rename(columns={\"W\": \"2015 Wins\",  \"L\": \"2015 Losses\", \"T\":\"2015 Ties\"})\n",
    "\n",
    "#Clean 'xz\" characters \n",
    "#for index, row in clean_2015.iterrows():\n",
    "    #word=str(row['NFL Team']).split(' xz')[0].strip()\n",
    "   # row['NFL Team']=word\n",
    "\n",
    "#Clean 'xy\" characters\n",
    "#for index, row in clean_2015.iterrows():\n",
    "   # word=str(row['NFL Team']).split(' xy')[0].strip()\n",
    "    #row['NFL Team']=word\n",
    "\n",
    "\n",
    "#clean_2015['NFL Team'] = clean_2015['NFL Team'].str.replace(r'\\b(\\w+)(\\s+\\1)+\\b', r'\\1')\n",
    "\n",
    "#clean_2015 = clean_2015.sort_values(by=\"NFL Team\", ascending=True)\n",
    "#clean_2015 = clean_2015.drop('NFL Team', axis=1)\n",
    "clean_2015['NFL Team'] = clean_2015['NFL Team'].str.replace(r'xz', '')\n",
    "clean_2015['NFL Team'] = clean_2015['NFL Team'].str.replace(r'xy', '')\n",
    "clean_2015['NFL Team'] = clean_2015['NFL Team'].str.replace(r'*', '')\n",
    "clean_2016['NFL Team'] = clean_2016['NFL Team'].str.replace(r'\\b(\\w+)(\\s+\\1)+\\b', r'\\1')\n",
    "\n",
    "clean_2015 = clean_2015.sort_values(by=\"NFL Team\", ascending=True)\n",
    "\n",
    "clean_2015\n",
    "    \n",
    "#store word outside for loop, team varbile\n",
    "#go through loop. is the word = previous word\n",
    "# if word - previous do nothing\n",
    "# else add to the \n",
    "# add new word\n",
    "\n",
    "#for index, row in clean_2015.iterrows():\n",
    "    #word = str(row['NFL Team']).split(' ')\n",
    "    #word += \" \" str(row['NFL Team']).split(' ')[1]\n",
    "    #row['NFL Team'])=word"
   ]
  },
  {
   "cell_type": "code",
   "execution_count": 76,
   "metadata": {},
   "outputs": [
    {
     "output_type": "execute_result",
     "data": {
      "text/plain": [
       "    2016 Wins  2016 Losses  2016 Ties\n",
       "9           7            8          1\n",
       "25         11            5          0\n",
       "13          8            8          0\n",
       "10          7            9          0\n",
       "7           6           10          0\n",
       "2           3           13          0\n",
       "8           6            9          1\n",
       "0           1           15          0\n",
       "30         13            3          0\n",
       "17          9            7          0\n",
       "18          9            7          0\n",
       "22         10            6          0\n",
       "19          9            7          0\n",
       "14          8            8          0\n",
       "3           3           13          0\n",
       "28         12            4          0\n",
       "4           4           12          0\n",
       "23         10            6          0\n",
       "15          8            8          0\n",
       "31         14            2          0\n",
       "11          7            9          0\n",
       "26         11            5          0\n",
       "5           5           11          0\n",
       "29         12            4          0\n",
       "12          7            9          0\n",
       "27         11            5          0\n",
       "6           5           11          0\n",
       "1           2           14          0\n",
       "24         10            5          1\n",
       "20          9            7          0\n",
       "21          9            7          0\n",
       "16          8            7          1"
      ],
      "text/html": "<div>\n<style scoped>\n    .dataframe tbody tr th:only-of-type {\n        vertical-align: middle;\n    }\n\n    .dataframe tbody tr th {\n        vertical-align: top;\n    }\n\n    .dataframe thead th {\n        text-align: right;\n    }\n</style>\n<table border=\"1\" class=\"dataframe\">\n  <thead>\n    <tr style=\"text-align: right;\">\n      <th></th>\n      <th>2016 Wins</th>\n      <th>2016 Losses</th>\n      <th>2016 Ties</th>\n    </tr>\n  </thead>\n  <tbody>\n    <tr>\n      <th>9</th>\n      <td>7</td>\n      <td>8</td>\n      <td>1</td>\n    </tr>\n    <tr>\n      <th>25</th>\n      <td>11</td>\n      <td>5</td>\n      <td>0</td>\n    </tr>\n    <tr>\n      <th>13</th>\n      <td>8</td>\n      <td>8</td>\n      <td>0</td>\n    </tr>\n    <tr>\n      <th>10</th>\n      <td>7</td>\n      <td>9</td>\n      <td>0</td>\n    </tr>\n    <tr>\n      <th>7</th>\n      <td>6</td>\n      <td>10</td>\n      <td>0</td>\n    </tr>\n    <tr>\n      <th>2</th>\n      <td>3</td>\n      <td>13</td>\n      <td>0</td>\n    </tr>\n    <tr>\n      <th>8</th>\n      <td>6</td>\n      <td>9</td>\n      <td>1</td>\n    </tr>\n    <tr>\n      <th>0</th>\n      <td>1</td>\n      <td>15</td>\n      <td>0</td>\n    </tr>\n    <tr>\n      <th>30</th>\n      <td>13</td>\n      <td>3</td>\n      <td>0</td>\n    </tr>\n    <tr>\n      <th>17</th>\n      <td>9</td>\n      <td>7</td>\n      <td>0</td>\n    </tr>\n    <tr>\n      <th>18</th>\n      <td>9</td>\n      <td>7</td>\n      <td>0</td>\n    </tr>\n    <tr>\n      <th>22</th>\n      <td>10</td>\n      <td>6</td>\n      <td>0</td>\n    </tr>\n    <tr>\n      <th>19</th>\n      <td>9</td>\n      <td>7</td>\n      <td>0</td>\n    </tr>\n    <tr>\n      <th>14</th>\n      <td>8</td>\n      <td>8</td>\n      <td>0</td>\n    </tr>\n    <tr>\n      <th>3</th>\n      <td>3</td>\n      <td>13</td>\n      <td>0</td>\n    </tr>\n    <tr>\n      <th>28</th>\n      <td>12</td>\n      <td>4</td>\n      <td>0</td>\n    </tr>\n    <tr>\n      <th>4</th>\n      <td>4</td>\n      <td>12</td>\n      <td>0</td>\n    </tr>\n    <tr>\n      <th>23</th>\n      <td>10</td>\n      <td>6</td>\n      <td>0</td>\n    </tr>\n    <tr>\n      <th>15</th>\n      <td>8</td>\n      <td>8</td>\n      <td>0</td>\n    </tr>\n    <tr>\n      <th>31</th>\n      <td>14</td>\n      <td>2</td>\n      <td>0</td>\n    </tr>\n    <tr>\n      <th>11</th>\n      <td>7</td>\n      <td>9</td>\n      <td>0</td>\n    </tr>\n    <tr>\n      <th>26</th>\n      <td>11</td>\n      <td>5</td>\n      <td>0</td>\n    </tr>\n    <tr>\n      <th>5</th>\n      <td>5</td>\n      <td>11</td>\n      <td>0</td>\n    </tr>\n    <tr>\n      <th>29</th>\n      <td>12</td>\n      <td>4</td>\n      <td>0</td>\n    </tr>\n    <tr>\n      <th>12</th>\n      <td>7</td>\n      <td>9</td>\n      <td>0</td>\n    </tr>\n    <tr>\n      <th>27</th>\n      <td>11</td>\n      <td>5</td>\n      <td>0</td>\n    </tr>\n    <tr>\n      <th>6</th>\n      <td>5</td>\n      <td>11</td>\n      <td>0</td>\n    </tr>\n    <tr>\n      <th>1</th>\n      <td>2</td>\n      <td>14</td>\n      <td>0</td>\n    </tr>\n    <tr>\n      <th>24</th>\n      <td>10</td>\n      <td>5</td>\n      <td>1</td>\n    </tr>\n    <tr>\n      <th>20</th>\n      <td>9</td>\n      <td>7</td>\n      <td>0</td>\n    </tr>\n    <tr>\n      <th>21</th>\n      <td>9</td>\n      <td>7</td>\n      <td>0</td>\n    </tr>\n    <tr>\n      <th>16</th>\n      <td>8</td>\n      <td>7</td>\n      <td>1</td>\n    </tr>\n  </tbody>\n</table>\n</div>"
     },
     "metadata": {},
     "execution_count": 76
    }
   ],
   "source": [
    "order_2016 = teams_record_2016.sort_values(by=\"NFL Team\", ascending=True)\n",
    "type(order_2016)\n",
    "new_record_2016 = order_2016.drop(columns=['Unnamed: 0', 'PCT', 'PF', 'PA', 'Net Pts', 'Home', 'Road', \"Div\", 'Pct', 'Conf', 'Pct.1', 'Non-Conf', 'Strk', 'Last 5'])\n",
    "\n",
    "# Rename W, L, T columns\n",
    "clean_2016 = new_record_2016.rename(columns={\"W\": \"2016 Wins\",  \"L\": \"2016 Losses\", \"T\":\"2016 Ties\"})\n",
    "\n",
    "\n",
    "#Clean 'xz\" characters \n",
    "for index, row in clean_2016.iterrows():\n",
    "    word=str(row['NFL Team']).split(' xz')[0].strip()\n",
    "    row['NFL Team']=word\n",
    "\n",
    "#Clean 'xz*\" characters \n",
    "for index, row in clean_2016.iterrows():\n",
    "    word=str(row['NFL Team']).split(' xz*')[0].strip()\n",
    "    row['NFL Team']=word\n",
    "\n",
    "clean_2016['NFL Team'] = clean_2016['NFL Team'].str.replace(r'xz', '')\n",
    "clean_2016['NFL Team'] = clean_2016['NFL Team'].str.replace(r'xy', '')\n",
    "clean_2016['NFL Team'] = clean_2016['NFL Team'].str.replace(r'*', '')\n",
    "clean_2016['NFL Team'] = clean_2016['NFL Team'].str.replace(r'\\b(\\w+)(\\s+\\1)+\\b', r'\\1')\n",
    "\n",
    "clean_2016 = clean_2016.sort_values(by=\"NFL Team\", ascending=True)\n",
    "clean_2016 = clean_2016.drop('NFL Team', axis=1)\n",
    "\n",
    "clean_2016\n",
    "\n"
   ]
  },
  {
   "cell_type": "code",
   "execution_count": 81,
   "metadata": {},
   "outputs": [
    {
     "output_type": "error",
     "ename": "KeyError",
     "evalue": "'NFL Team'",
     "traceback": [
      "\u001b[1;31m---------------------------------------------------------------------------\u001b[0m",
      "\u001b[1;31mKeyError\u001b[0m                                  Traceback (most recent call last)",
      "\u001b[1;32m<ipython-input-81-a983f1c3834c>\u001b[0m in \u001b[0;36m<module>\u001b[1;34m\u001b[0m\n\u001b[0;32m     14\u001b[0m \u001b[0mclean_2017\u001b[0m\u001b[1;33m[\u001b[0m\u001b[1;34m'NFL Team'\u001b[0m\u001b[1;33m]\u001b[0m \u001b[1;33m=\u001b[0m \u001b[0mclean_2017\u001b[0m\u001b[1;33m[\u001b[0m\u001b[1;34m'NFL Team'\u001b[0m\u001b[1;33m]\u001b[0m\u001b[1;33m.\u001b[0m\u001b[0mstr\u001b[0m\u001b[1;33m.\u001b[0m\u001b[0mreplace\u001b[0m\u001b[1;33m(\u001b[0m\u001b[1;34mr'\\b(\\w+)(\\s+\\1)+\\b'\u001b[0m\u001b[1;33m,\u001b[0m \u001b[1;34mr'\\1'\u001b[0m\u001b[1;33m)\u001b[0m\u001b[1;33m\u001b[0m\u001b[1;33m\u001b[0m\u001b[0m\n\u001b[0;32m     15\u001b[0m \u001b[1;33m\u001b[0m\u001b[0m\n\u001b[1;32m---> 16\u001b[1;33m \u001b[0mclean_2017\u001b[0m \u001b[1;33m=\u001b[0m \u001b[0mclean_2018\u001b[0m\u001b[1;33m.\u001b[0m\u001b[0msort_values\u001b[0m\u001b[1;33m(\u001b[0m\u001b[0mby\u001b[0m\u001b[1;33m=\u001b[0m\u001b[1;34m\"NFL Team\"\u001b[0m\u001b[1;33m,\u001b[0m \u001b[0mascending\u001b[0m\u001b[1;33m=\u001b[0m\u001b[1;32mTrue\u001b[0m\u001b[1;33m)\u001b[0m\u001b[1;33m\u001b[0m\u001b[1;33m\u001b[0m\u001b[0m\n\u001b[0m\u001b[0;32m     17\u001b[0m \u001b[0mclean_2017\u001b[0m \u001b[1;33m=\u001b[0m \u001b[0mclean_2018\u001b[0m\u001b[1;33m.\u001b[0m\u001b[0mdrop\u001b[0m\u001b[1;33m(\u001b[0m\u001b[1;34m'NFL Team'\u001b[0m\u001b[1;33m,\u001b[0m \u001b[0maxis\u001b[0m\u001b[1;33m=\u001b[0m\u001b[1;36m1\u001b[0m\u001b[1;33m)\u001b[0m\u001b[1;33m\u001b[0m\u001b[1;33m\u001b[0m\u001b[0m\n\u001b[0;32m     18\u001b[0m \u001b[1;33m\u001b[0m\u001b[0m\n",
      "\u001b[1;32m~\\anaconda3\\envs\\PythonData\\lib\\site-packages\\pandas\\core\\frame.py\u001b[0m in \u001b[0;36msort_values\u001b[1;34m(self, by, axis, ascending, inplace, kind, na_position, ignore_index)\u001b[0m\n\u001b[0;32m   4925\u001b[0m \u001b[1;33m\u001b[0m\u001b[0m\n\u001b[0;32m   4926\u001b[0m             \u001b[0mby\u001b[0m \u001b[1;33m=\u001b[0m \u001b[0mby\u001b[0m\u001b[1;33m[\u001b[0m\u001b[1;36m0\u001b[0m\u001b[1;33m]\u001b[0m\u001b[1;33m\u001b[0m\u001b[1;33m\u001b[0m\u001b[0m\n\u001b[1;32m-> 4927\u001b[1;33m             \u001b[0mk\u001b[0m \u001b[1;33m=\u001b[0m \u001b[0mself\u001b[0m\u001b[1;33m.\u001b[0m\u001b[0m_get_label_or_level_values\u001b[0m\u001b[1;33m(\u001b[0m\u001b[0mby\u001b[0m\u001b[1;33m,\u001b[0m \u001b[0maxis\u001b[0m\u001b[1;33m=\u001b[0m\u001b[0maxis\u001b[0m\u001b[1;33m)\u001b[0m\u001b[1;33m\u001b[0m\u001b[1;33m\u001b[0m\u001b[0m\n\u001b[0m\u001b[0;32m   4928\u001b[0m \u001b[1;33m\u001b[0m\u001b[0m\n\u001b[0;32m   4929\u001b[0m             \u001b[1;32mif\u001b[0m \u001b[0misinstance\u001b[0m\u001b[1;33m(\u001b[0m\u001b[0mascending\u001b[0m\u001b[1;33m,\u001b[0m \u001b[1;33m(\u001b[0m\u001b[0mtuple\u001b[0m\u001b[1;33m,\u001b[0m \u001b[0mlist\u001b[0m\u001b[1;33m)\u001b[0m\u001b[1;33m)\u001b[0m\u001b[1;33m:\u001b[0m\u001b[1;33m\u001b[0m\u001b[1;33m\u001b[0m\u001b[0m\n",
      "\u001b[1;32m~\\anaconda3\\envs\\PythonData\\lib\\site-packages\\pandas\\core\\generic.py\u001b[0m in \u001b[0;36m_get_label_or_level_values\u001b[1;34m(self, key, axis)\u001b[0m\n\u001b[0;32m   1690\u001b[0m             \u001b[0mvalues\u001b[0m \u001b[1;33m=\u001b[0m \u001b[0mself\u001b[0m\u001b[1;33m.\u001b[0m\u001b[0maxes\u001b[0m\u001b[1;33m[\u001b[0m\u001b[0maxis\u001b[0m\u001b[1;33m]\u001b[0m\u001b[1;33m.\u001b[0m\u001b[0mget_level_values\u001b[0m\u001b[1;33m(\u001b[0m\u001b[0mkey\u001b[0m\u001b[1;33m)\u001b[0m\u001b[1;33m.\u001b[0m\u001b[0m_values\u001b[0m\u001b[1;33m\u001b[0m\u001b[1;33m\u001b[0m\u001b[0m\n\u001b[0;32m   1691\u001b[0m         \u001b[1;32melse\u001b[0m\u001b[1;33m:\u001b[0m\u001b[1;33m\u001b[0m\u001b[1;33m\u001b[0m\u001b[0m\n\u001b[1;32m-> 1692\u001b[1;33m             \u001b[1;32mraise\u001b[0m \u001b[0mKeyError\u001b[0m\u001b[1;33m(\u001b[0m\u001b[0mkey\u001b[0m\u001b[1;33m)\u001b[0m\u001b[1;33m\u001b[0m\u001b[1;33m\u001b[0m\u001b[0m\n\u001b[0m\u001b[0;32m   1693\u001b[0m \u001b[1;33m\u001b[0m\u001b[0m\n\u001b[0;32m   1694\u001b[0m         \u001b[1;31m# Check for duplicates\u001b[0m\u001b[1;33m\u001b[0m\u001b[1;33m\u001b[0m\u001b[1;33m\u001b[0m\u001b[0m\n",
      "\u001b[1;31mKeyError\u001b[0m: 'NFL Team'"
     ]
    }
   ],
   "source": [
    "order_2017 = teams_record_2017.sort_values(by=\"NFL Team\", ascending=True)\n",
    "type(order_2017)\n",
    "new_record_2017 = order_2017.drop(columns=['Unnamed: 0', 'PCT', 'PF', 'PA', 'Net Pts', 'Home', 'Road', \"Div\", 'Pct', 'Conf', 'Pct.1', 'Non-Conf', 'Strk', 'Last 5'])\n",
    "\n",
    "# Rename W, L, T columns\n",
    "clean_2017 = new_record_2017.rename(columns={\"W\": \"2018 Wins\",  \"L\": \"2018 Losses\", \"T\":\"2018 Ties\"})\n",
    "clean_2017\n",
    "\n",
    "\n",
    "clean_2017['NFL Team'] = clean_2017['NFL Team'].str.replace(r'xz', '')\n",
    "clean_2017['NFL Team'] = clean_2017['NFL Team'].str.replace(r'xy', '')\n",
    "clean_2017['NFL Team'] = clean_2017['NFL Team'].str.replace(r'x', '')\n",
    "clean_2017['NFL Team'] = clean_2017['NFL Team'].str.replace(r'*', '')\n",
    "clean_2017['NFL Team'] = clean_2017['NFL Team'].str.replace(r'\\b(\\w+)(\\s+\\1)+\\b', r'\\1')\n",
    "\n",
    "clean_2017 = clean_2018.sort_values(by=\"NFL Team\", ascending=True)\n",
    "clean_2017 = clean_2018.drop('NFL Team', axis=1)\n",
    "\n",
    "clean_2017\n"
   ]
  },
  {
   "cell_type": "code",
   "execution_count": 64,
   "metadata": {},
   "outputs": [
    {
     "output_type": "execute_result",
     "data": {
      "text/plain": [
       "    2018 Wins  2018 Losses  2018 Ties\n",
       "0           3           13          0\n",
       "12          7            9          0\n",
       "21         10            6          0\n",
       "7           6           10          0\n",
       "13          7            9          0\n",
       "27         12            4          0\n",
       "8           6           10          0\n",
       "14          7            8          1\n",
       "22         10            6          0\n",
       "9           6           10          0\n",
       "10          6           10          0\n",
       "11          6            9          1\n",
       "25         11            5          0\n",
       "23         10            6          0\n",
       "4           5           11          0\n",
       "28         12            4          0\n",
       "29         12            4          0\n",
       "30         13            3          0\n",
       "15          7            9          0\n",
       "17          8            7          1\n",
       "26         11            5          0\n",
       "31         13            3          0\n",
       "5           5           11          0\n",
       "1           4           12          0\n",
       "2           4           12          0\n",
       "18          9            7          0\n",
       "19          9            6          1\n",
       "3           4           12          0\n",
       "24         10            6          0\n",
       "6           5           11          0\n",
       "20          9            7          0\n",
       "16          7            9          0"
      ],
      "text/html": "<div>\n<style scoped>\n    .dataframe tbody tr th:only-of-type {\n        vertical-align: middle;\n    }\n\n    .dataframe tbody tr th {\n        vertical-align: top;\n    }\n\n    .dataframe thead th {\n        text-align: right;\n    }\n</style>\n<table border=\"1\" class=\"dataframe\">\n  <thead>\n    <tr style=\"text-align: right;\">\n      <th></th>\n      <th>2018 Wins</th>\n      <th>2018 Losses</th>\n      <th>2018 Ties</th>\n    </tr>\n  </thead>\n  <tbody>\n    <tr>\n      <th>0</th>\n      <td>3</td>\n      <td>13</td>\n      <td>0</td>\n    </tr>\n    <tr>\n      <th>12</th>\n      <td>7</td>\n      <td>9</td>\n      <td>0</td>\n    </tr>\n    <tr>\n      <th>21</th>\n      <td>10</td>\n      <td>6</td>\n      <td>0</td>\n    </tr>\n    <tr>\n      <th>7</th>\n      <td>6</td>\n      <td>10</td>\n      <td>0</td>\n    </tr>\n    <tr>\n      <th>13</th>\n      <td>7</td>\n      <td>9</td>\n      <td>0</td>\n    </tr>\n    <tr>\n      <th>27</th>\n      <td>12</td>\n      <td>4</td>\n      <td>0</td>\n    </tr>\n    <tr>\n      <th>8</th>\n      <td>6</td>\n      <td>10</td>\n      <td>0</td>\n    </tr>\n    <tr>\n      <th>14</th>\n      <td>7</td>\n      <td>8</td>\n      <td>1</td>\n    </tr>\n    <tr>\n      <th>22</th>\n      <td>10</td>\n      <td>6</td>\n      <td>0</td>\n    </tr>\n    <tr>\n      <th>9</th>\n      <td>6</td>\n      <td>10</td>\n      <td>0</td>\n    </tr>\n    <tr>\n      <th>10</th>\n      <td>6</td>\n      <td>10</td>\n      <td>0</td>\n    </tr>\n    <tr>\n      <th>11</th>\n      <td>6</td>\n      <td>9</td>\n      <td>1</td>\n    </tr>\n    <tr>\n      <th>25</th>\n      <td>11</td>\n      <td>5</td>\n      <td>0</td>\n    </tr>\n    <tr>\n      <th>23</th>\n      <td>10</td>\n      <td>6</td>\n      <td>0</td>\n    </tr>\n    <tr>\n      <th>4</th>\n      <td>5</td>\n      <td>11</td>\n      <td>0</td>\n    </tr>\n    <tr>\n      <th>28</th>\n      <td>12</td>\n      <td>4</td>\n      <td>0</td>\n    </tr>\n    <tr>\n      <th>29</th>\n      <td>12</td>\n      <td>4</td>\n      <td>0</td>\n    </tr>\n    <tr>\n      <th>30</th>\n      <td>13</td>\n      <td>3</td>\n      <td>0</td>\n    </tr>\n    <tr>\n      <th>15</th>\n      <td>7</td>\n      <td>9</td>\n      <td>0</td>\n    </tr>\n    <tr>\n      <th>17</th>\n      <td>8</td>\n      <td>7</td>\n      <td>1</td>\n    </tr>\n    <tr>\n      <th>26</th>\n      <td>11</td>\n      <td>5</td>\n      <td>0</td>\n    </tr>\n    <tr>\n      <th>31</th>\n      <td>13</td>\n      <td>3</td>\n      <td>0</td>\n    </tr>\n    <tr>\n      <th>5</th>\n      <td>5</td>\n      <td>11</td>\n      <td>0</td>\n    </tr>\n    <tr>\n      <th>1</th>\n      <td>4</td>\n      <td>12</td>\n      <td>0</td>\n    </tr>\n    <tr>\n      <th>2</th>\n      <td>4</td>\n      <td>12</td>\n      <td>0</td>\n    </tr>\n    <tr>\n      <th>18</th>\n      <td>9</td>\n      <td>7</td>\n      <td>0</td>\n    </tr>\n    <tr>\n      <th>19</th>\n      <td>9</td>\n      <td>6</td>\n      <td>1</td>\n    </tr>\n    <tr>\n      <th>3</th>\n      <td>4</td>\n      <td>12</td>\n      <td>0</td>\n    </tr>\n    <tr>\n      <th>24</th>\n      <td>10</td>\n      <td>6</td>\n      <td>0</td>\n    </tr>\n    <tr>\n      <th>6</th>\n      <td>5</td>\n      <td>11</td>\n      <td>0</td>\n    </tr>\n    <tr>\n      <th>20</th>\n      <td>9</td>\n      <td>7</td>\n      <td>0</td>\n    </tr>\n    <tr>\n      <th>16</th>\n      <td>7</td>\n      <td>9</td>\n      <td>0</td>\n    </tr>\n  </tbody>\n</table>\n</div>"
     },
     "metadata": {},
     "execution_count": 64
    }
   ],
   "source": [
    "order_2018 = teams_record_2018.sort_values(by=\"NFL Team\", ascending=True)\n",
    "type(order_2018)\n",
    "new_record_2018 = order_2018.drop(columns=['Unnamed: 0', 'PCT', 'PF', 'PA', 'Net Pts', 'Home', 'Road', \"Div\", 'Pct', 'Conf', 'Pct.1', 'Non-Conf', 'Strk', 'Last 5'])\n",
    "\n",
    "# Rename W, L, T columns\n",
    "clean_2018 = new_record_2018.rename(columns={\"W\": \"2018 Wins\",  \"L\": \"2018 Losses\", \"T\":\"2018 Ties\"})\n",
    "clean_2018\n",
    "\n",
    "\n",
    "clean_2018['NFL Team'] = clean_2018['NFL Team'].str.replace(r'xz', '')\n",
    "clean_2018['NFL Team'] = clean_2018['NFL Team'].str.replace(r'xy', '')\n",
    "clean_2018['NFL Team'] = clean_2018['NFL Team'].str.replace(r'x', '')\n",
    "clean_2018['NFL Team'] = clean_2018['NFL Team'].str.replace(r'*', '')\n",
    "clean_2018['NFL Team'] = clean_2018['NFL Team'].str.replace(r'\\b(\\w+)(\\s+\\1)+\\b', r'\\1')\n",
    "\n",
    "clean_2018 = clean_2018.sort_values(by=\"NFL Team\", ascending=True)\n",
    "clean_2018 = clean_2018.drop('NFL Team', axis=1)\n",
    "\n",
    "clean_2018"
   ]
  },
  {
   "cell_type": "code",
   "execution_count": 66,
   "metadata": {},
   "outputs": [
    {
     "output_type": "execute_result",
     "data": {
      "text/plain": [
       "                                NFL Team  2019 Wins  2019 Losses  2019 Ties\n",
       "4                      Arizona Cardinals          5           10          1\n",
       "10                       Atlanta Falcons          7            9          0\n",
       "31        Baltimore Ravens  z  Ravens  z         14            2          0\n",
       "22                       Buffalo Bills           10            6          0\n",
       "5                      Carolina Panthers          5           11          0\n",
       "16                         Chicago Bears          8            8          0\n",
       "0                     Cincinnati Bengals          2           14          0\n",
       "8                       Cleveland Browns          6           10          0\n",
       "17                        Dallas Cowboys          8            8          0\n",
       "11                        Denver Broncos          7            9          0\n",
       "1                          Detroit Lions          3           12          1\n",
       "28      Green Bay Packers  z  Packers  z         13            3          0\n",
       "23            Houston Teans  z  Teans  z         10            6          0\n",
       "12                    Indianapolis Colts          7            9          0\n",
       "9                   Jacksonville Jaguars          6           10          0\n",
       "26      Kansas City Chiefs  z  Chiefs  z         12            4          0\n",
       "6                   Los Angeles Chargers          5           11          0\n",
       "19                      Los Angeles Rams          9            7          0\n",
       "7                         Miami Dolphins          5           11          0\n",
       "24                   Minnesota Vikings           10            6          0\n",
       "27  New England Patriots  z  Patriots  z         12            4          0\n",
       "29      New Orleans Saints  z  Saints  z         13            3          0\n",
       "3                        New York Giants          4           12          0\n",
       "13                         New York Jets          7            9          0\n",
       "14                       Oakland Raiders          7            9          0\n",
       "20     Philadelphia Eagles  z  Eagles  z          9            7          0\n",
       "18                   Pittsburgh Steelers          8            8          0\n",
       "30                 San Francisco 49ers           13            3          0\n",
       "25                      Seattle Seahawks         11            5          0\n",
       "15                  Tampa Bay Buccaneers          7            9          0\n",
       "21                    Tennessee Titans            9            7          0\n",
       "2                    Washington Redskins          3           13          0"
      ],
      "text/html": "<div>\n<style scoped>\n    .dataframe tbody tr th:only-of-type {\n        vertical-align: middle;\n    }\n\n    .dataframe tbody tr th {\n        vertical-align: top;\n    }\n\n    .dataframe thead th {\n        text-align: right;\n    }\n</style>\n<table border=\"1\" class=\"dataframe\">\n  <thead>\n    <tr style=\"text-align: right;\">\n      <th></th>\n      <th>NFL Team</th>\n      <th>2019 Wins</th>\n      <th>2019 Losses</th>\n      <th>2019 Ties</th>\n    </tr>\n  </thead>\n  <tbody>\n    <tr>\n      <th>4</th>\n      <td>Arizona Cardinals</td>\n      <td>5</td>\n      <td>10</td>\n      <td>1</td>\n    </tr>\n    <tr>\n      <th>10</th>\n      <td>Atlanta Falcons</td>\n      <td>7</td>\n      <td>9</td>\n      <td>0</td>\n    </tr>\n    <tr>\n      <th>31</th>\n      <td>Baltimore Ravens  z  Ravens  z</td>\n      <td>14</td>\n      <td>2</td>\n      <td>0</td>\n    </tr>\n    <tr>\n      <th>22</th>\n      <td>Buffalo Bills</td>\n      <td>10</td>\n      <td>6</td>\n      <td>0</td>\n    </tr>\n    <tr>\n      <th>5</th>\n      <td>Carolina Panthers</td>\n      <td>5</td>\n      <td>11</td>\n      <td>0</td>\n    </tr>\n    <tr>\n      <th>16</th>\n      <td>Chicago Bears</td>\n      <td>8</td>\n      <td>8</td>\n      <td>0</td>\n    </tr>\n    <tr>\n      <th>0</th>\n      <td>Cincinnati Bengals</td>\n      <td>2</td>\n      <td>14</td>\n      <td>0</td>\n    </tr>\n    <tr>\n      <th>8</th>\n      <td>Cleveland Browns</td>\n      <td>6</td>\n      <td>10</td>\n      <td>0</td>\n    </tr>\n    <tr>\n      <th>17</th>\n      <td>Dallas Cowboys</td>\n      <td>8</td>\n      <td>8</td>\n      <td>0</td>\n    </tr>\n    <tr>\n      <th>11</th>\n      <td>Denver Broncos</td>\n      <td>7</td>\n      <td>9</td>\n      <td>0</td>\n    </tr>\n    <tr>\n      <th>1</th>\n      <td>Detroit Lions</td>\n      <td>3</td>\n      <td>12</td>\n      <td>1</td>\n    </tr>\n    <tr>\n      <th>28</th>\n      <td>Green Bay Packers  z  Packers  z</td>\n      <td>13</td>\n      <td>3</td>\n      <td>0</td>\n    </tr>\n    <tr>\n      <th>23</th>\n      <td>Houston Teans  z  Teans  z</td>\n      <td>10</td>\n      <td>6</td>\n      <td>0</td>\n    </tr>\n    <tr>\n      <th>12</th>\n      <td>Indianapolis Colts</td>\n      <td>7</td>\n      <td>9</td>\n      <td>0</td>\n    </tr>\n    <tr>\n      <th>9</th>\n      <td>Jacksonville Jaguars</td>\n      <td>6</td>\n      <td>10</td>\n      <td>0</td>\n    </tr>\n    <tr>\n      <th>26</th>\n      <td>Kansas City Chiefs  z  Chiefs  z</td>\n      <td>12</td>\n      <td>4</td>\n      <td>0</td>\n    </tr>\n    <tr>\n      <th>6</th>\n      <td>Los Angeles Chargers</td>\n      <td>5</td>\n      <td>11</td>\n      <td>0</td>\n    </tr>\n    <tr>\n      <th>19</th>\n      <td>Los Angeles Rams</td>\n      <td>9</td>\n      <td>7</td>\n      <td>0</td>\n    </tr>\n    <tr>\n      <th>7</th>\n      <td>Miami Dolphins</td>\n      <td>5</td>\n      <td>11</td>\n      <td>0</td>\n    </tr>\n    <tr>\n      <th>24</th>\n      <td>Minnesota Vikings</td>\n      <td>10</td>\n      <td>6</td>\n      <td>0</td>\n    </tr>\n    <tr>\n      <th>27</th>\n      <td>New England Patriots  z  Patriots  z</td>\n      <td>12</td>\n      <td>4</td>\n      <td>0</td>\n    </tr>\n    <tr>\n      <th>29</th>\n      <td>New Orleans Saints  z  Saints  z</td>\n      <td>13</td>\n      <td>3</td>\n      <td>0</td>\n    </tr>\n    <tr>\n      <th>3</th>\n      <td>New York Giants</td>\n      <td>4</td>\n      <td>12</td>\n      <td>0</td>\n    </tr>\n    <tr>\n      <th>13</th>\n      <td>New York Jets</td>\n      <td>7</td>\n      <td>9</td>\n      <td>0</td>\n    </tr>\n    <tr>\n      <th>14</th>\n      <td>Oakland Raiders</td>\n      <td>7</td>\n      <td>9</td>\n      <td>0</td>\n    </tr>\n    <tr>\n      <th>20</th>\n      <td>Philadelphia Eagles  z  Eagles  z</td>\n      <td>9</td>\n      <td>7</td>\n      <td>0</td>\n    </tr>\n    <tr>\n      <th>18</th>\n      <td>Pittsburgh Steelers</td>\n      <td>8</td>\n      <td>8</td>\n      <td>0</td>\n    </tr>\n    <tr>\n      <th>30</th>\n      <td>San Francisco 49ers</td>\n      <td>13</td>\n      <td>3</td>\n      <td>0</td>\n    </tr>\n    <tr>\n      <th>25</th>\n      <td>Seattle Seahawks</td>\n      <td>11</td>\n      <td>5</td>\n      <td>0</td>\n    </tr>\n    <tr>\n      <th>15</th>\n      <td>Tampa Bay Buccaneers</td>\n      <td>7</td>\n      <td>9</td>\n      <td>0</td>\n    </tr>\n    <tr>\n      <th>21</th>\n      <td>Tennessee Titans</td>\n      <td>9</td>\n      <td>7</td>\n      <td>0</td>\n    </tr>\n    <tr>\n      <th>2</th>\n      <td>Washington Redskins</td>\n      <td>3</td>\n      <td>13</td>\n      <td>0</td>\n    </tr>\n  </tbody>\n</table>\n</div>"
     },
     "metadata": {},
     "execution_count": 66
    }
   ],
   "source": [
    "order_2019 = teams_record_2019.sort_values(by=\"NFL Team\", ascending=True)\n",
    "type(order_2019)\n",
    "new_record_2019 = order_2019.drop(columns=['Unnamed: 0', 'PCT', 'PF', 'PA', 'Net Pts', 'Home', 'Road', \"Div\", 'Pct', 'Conf', 'Pct.1', 'Non-Conf', 'Strk', 'Last 5'])\n",
    "\n",
    "\n",
    "# Rename W, L, T columns\n",
    "clean_2019 = new_record_2019.rename(columns={\"W\": \"2019 Wins\",  \"L\": \"2019 Losses\", \"T\":\"2019 Ties\"})\n",
    "clean_2019.index.name\n",
    "\n",
    "clean_2019['NFL Team'] = clean_2019['NFL Team'].str.replace(r'x', '')\n",
    "clean_2019['NFL Team'] = clean_2019['NFL Team'].str.replace(r'z', '')\n",
    "clean_2019['NFL Team'] = clean_2019['NFL Team'].str.replace(r'xy', '')\n",
    "clean_2019['NFL Team'] = clean_2019['NFL Team'].str.replace(r'*', '')\n",
    "clean_2019['NFL Team'] = clean_2019['NFL Team'].str.replace(r'\\b(\\w+)(\\s+\\1)+\\b', r'\\1')\n",
    "\n",
    "clean_2019.loc[clean_2019[\"NFL Team\"] == 'Ariona Cardinals'].replace('Ariona Cardinals', 'Arizona Cardinals')\n",
    "\n",
    "\n",
    "clean_2019"
   ]
  },
  {
   "cell_type": "code",
   "execution_count": 65,
   "metadata": {},
   "outputs": [
    {
     "output_type": "execute_result",
     "data": {
      "text/plain": [
       "     0   1  2   3   4  5   6   7  8\n",
       "0    1  15  0   0  16  0   3  13  0\n",
       "1    2  14  0   3  13  0   4  12  0\n",
       "2    3  13  0   4  12  0   4  12  0\n",
       "3    3  13  0   4  12  0   4  12  0\n",
       "4    4  12  0   5  11  0   5  11  0\n",
       "5    5  11  0   5  11  0   5  11  0\n",
       "6    5  11  0   5  11  0   5  11  0\n",
       "7    6  10  0   5  11  0   6  10  0\n",
       "8    6   9  1   6  10  0   6  10  0\n",
       "9    7   8  1   6  10  0   6  10  0\n",
       "10   7   9  0   6  10  0   6  10  0\n",
       "11   7   9  0   7   9  0   6   9  1\n",
       "12   7   9  0   7   9  0   7   9  0\n",
       "13   8   8  0   7   9  0   7   9  0\n",
       "14   8   8  0   8   8  0   7   8  1\n",
       "15   8   8  0   9   7  0   7   9  0\n",
       "16   8   7  1   9   7  0   7   9  0\n",
       "17   9   7  0   9   7  0   8   7  1\n",
       "18   9   7  0   9   7  0   9   7  0\n",
       "19   9   7  0   9   7  0   9   6  1\n",
       "20   9   7  0   9   7  0   9   7  0\n",
       "21   9   7  0   9   7  0  10   6  0\n",
       "22  10   6  0  10   6  0  10   6  0\n",
       "23  10   6  0  10   6  0  10   6  0\n",
       "24  10   5  1  10   6  0  10   6  0\n",
       "25  11   5  0  11   5  0  11   5  0\n",
       "26  11   5  0  11   5  0  11   5  0\n",
       "27  11   5  0  11   5  0  12   4  0\n",
       "28  12   4  0  13   3  0  12   4  0\n",
       "29  12   4  0  13   3  0  12   4  0\n",
       "30  13   3  0  13   3  0  13   3  0\n",
       "31  14   2  0  13   3  0  13   3  0"
      ],
      "text/html": "<div>\n<style scoped>\n    .dataframe tbody tr th:only-of-type {\n        vertical-align: middle;\n    }\n\n    .dataframe tbody tr th {\n        vertical-align: top;\n    }\n\n    .dataframe thead th {\n        text-align: right;\n    }\n</style>\n<table border=\"1\" class=\"dataframe\">\n  <thead>\n    <tr style=\"text-align: right;\">\n      <th></th>\n      <th>0</th>\n      <th>1</th>\n      <th>2</th>\n      <th>3</th>\n      <th>4</th>\n      <th>5</th>\n      <th>6</th>\n      <th>7</th>\n      <th>8</th>\n    </tr>\n  </thead>\n  <tbody>\n    <tr>\n      <th>0</th>\n      <td>1</td>\n      <td>15</td>\n      <td>0</td>\n      <td>0</td>\n      <td>16</td>\n      <td>0</td>\n      <td>3</td>\n      <td>13</td>\n      <td>0</td>\n    </tr>\n    <tr>\n      <th>1</th>\n      <td>2</td>\n      <td>14</td>\n      <td>0</td>\n      <td>3</td>\n      <td>13</td>\n      <td>0</td>\n      <td>4</td>\n      <td>12</td>\n      <td>0</td>\n    </tr>\n    <tr>\n      <th>2</th>\n      <td>3</td>\n      <td>13</td>\n      <td>0</td>\n      <td>4</td>\n      <td>12</td>\n      <td>0</td>\n      <td>4</td>\n      <td>12</td>\n      <td>0</td>\n    </tr>\n    <tr>\n      <th>3</th>\n      <td>3</td>\n      <td>13</td>\n      <td>0</td>\n      <td>4</td>\n      <td>12</td>\n      <td>0</td>\n      <td>4</td>\n      <td>12</td>\n      <td>0</td>\n    </tr>\n    <tr>\n      <th>4</th>\n      <td>4</td>\n      <td>12</td>\n      <td>0</td>\n      <td>5</td>\n      <td>11</td>\n      <td>0</td>\n      <td>5</td>\n      <td>11</td>\n      <td>0</td>\n    </tr>\n    <tr>\n      <th>5</th>\n      <td>5</td>\n      <td>11</td>\n      <td>0</td>\n      <td>5</td>\n      <td>11</td>\n      <td>0</td>\n      <td>5</td>\n      <td>11</td>\n      <td>0</td>\n    </tr>\n    <tr>\n      <th>6</th>\n      <td>5</td>\n      <td>11</td>\n      <td>0</td>\n      <td>5</td>\n      <td>11</td>\n      <td>0</td>\n      <td>5</td>\n      <td>11</td>\n      <td>0</td>\n    </tr>\n    <tr>\n      <th>7</th>\n      <td>6</td>\n      <td>10</td>\n      <td>0</td>\n      <td>5</td>\n      <td>11</td>\n      <td>0</td>\n      <td>6</td>\n      <td>10</td>\n      <td>0</td>\n    </tr>\n    <tr>\n      <th>8</th>\n      <td>6</td>\n      <td>9</td>\n      <td>1</td>\n      <td>6</td>\n      <td>10</td>\n      <td>0</td>\n      <td>6</td>\n      <td>10</td>\n      <td>0</td>\n    </tr>\n    <tr>\n      <th>9</th>\n      <td>7</td>\n      <td>8</td>\n      <td>1</td>\n      <td>6</td>\n      <td>10</td>\n      <td>0</td>\n      <td>6</td>\n      <td>10</td>\n      <td>0</td>\n    </tr>\n    <tr>\n      <th>10</th>\n      <td>7</td>\n      <td>9</td>\n      <td>0</td>\n      <td>6</td>\n      <td>10</td>\n      <td>0</td>\n      <td>6</td>\n      <td>10</td>\n      <td>0</td>\n    </tr>\n    <tr>\n      <th>11</th>\n      <td>7</td>\n      <td>9</td>\n      <td>0</td>\n      <td>7</td>\n      <td>9</td>\n      <td>0</td>\n      <td>6</td>\n      <td>9</td>\n      <td>1</td>\n    </tr>\n    <tr>\n      <th>12</th>\n      <td>7</td>\n      <td>9</td>\n      <td>0</td>\n      <td>7</td>\n      <td>9</td>\n      <td>0</td>\n      <td>7</td>\n      <td>9</td>\n      <td>0</td>\n    </tr>\n    <tr>\n      <th>13</th>\n      <td>8</td>\n      <td>8</td>\n      <td>0</td>\n      <td>7</td>\n      <td>9</td>\n      <td>0</td>\n      <td>7</td>\n      <td>9</td>\n      <td>0</td>\n    </tr>\n    <tr>\n      <th>14</th>\n      <td>8</td>\n      <td>8</td>\n      <td>0</td>\n      <td>8</td>\n      <td>8</td>\n      <td>0</td>\n      <td>7</td>\n      <td>8</td>\n      <td>1</td>\n    </tr>\n    <tr>\n      <th>15</th>\n      <td>8</td>\n      <td>8</td>\n      <td>0</td>\n      <td>9</td>\n      <td>7</td>\n      <td>0</td>\n      <td>7</td>\n      <td>9</td>\n      <td>0</td>\n    </tr>\n    <tr>\n      <th>16</th>\n      <td>8</td>\n      <td>7</td>\n      <td>1</td>\n      <td>9</td>\n      <td>7</td>\n      <td>0</td>\n      <td>7</td>\n      <td>9</td>\n      <td>0</td>\n    </tr>\n    <tr>\n      <th>17</th>\n      <td>9</td>\n      <td>7</td>\n      <td>0</td>\n      <td>9</td>\n      <td>7</td>\n      <td>0</td>\n      <td>8</td>\n      <td>7</td>\n      <td>1</td>\n    </tr>\n    <tr>\n      <th>18</th>\n      <td>9</td>\n      <td>7</td>\n      <td>0</td>\n      <td>9</td>\n      <td>7</td>\n      <td>0</td>\n      <td>9</td>\n      <td>7</td>\n      <td>0</td>\n    </tr>\n    <tr>\n      <th>19</th>\n      <td>9</td>\n      <td>7</td>\n      <td>0</td>\n      <td>9</td>\n      <td>7</td>\n      <td>0</td>\n      <td>9</td>\n      <td>6</td>\n      <td>1</td>\n    </tr>\n    <tr>\n      <th>20</th>\n      <td>9</td>\n      <td>7</td>\n      <td>0</td>\n      <td>9</td>\n      <td>7</td>\n      <td>0</td>\n      <td>9</td>\n      <td>7</td>\n      <td>0</td>\n    </tr>\n    <tr>\n      <th>21</th>\n      <td>9</td>\n      <td>7</td>\n      <td>0</td>\n      <td>9</td>\n      <td>7</td>\n      <td>0</td>\n      <td>10</td>\n      <td>6</td>\n      <td>0</td>\n    </tr>\n    <tr>\n      <th>22</th>\n      <td>10</td>\n      <td>6</td>\n      <td>0</td>\n      <td>10</td>\n      <td>6</td>\n      <td>0</td>\n      <td>10</td>\n      <td>6</td>\n      <td>0</td>\n    </tr>\n    <tr>\n      <th>23</th>\n      <td>10</td>\n      <td>6</td>\n      <td>0</td>\n      <td>10</td>\n      <td>6</td>\n      <td>0</td>\n      <td>10</td>\n      <td>6</td>\n      <td>0</td>\n    </tr>\n    <tr>\n      <th>24</th>\n      <td>10</td>\n      <td>5</td>\n      <td>1</td>\n      <td>10</td>\n      <td>6</td>\n      <td>0</td>\n      <td>10</td>\n      <td>6</td>\n      <td>0</td>\n    </tr>\n    <tr>\n      <th>25</th>\n      <td>11</td>\n      <td>5</td>\n      <td>0</td>\n      <td>11</td>\n      <td>5</td>\n      <td>0</td>\n      <td>11</td>\n      <td>5</td>\n      <td>0</td>\n    </tr>\n    <tr>\n      <th>26</th>\n      <td>11</td>\n      <td>5</td>\n      <td>0</td>\n      <td>11</td>\n      <td>5</td>\n      <td>0</td>\n      <td>11</td>\n      <td>5</td>\n      <td>0</td>\n    </tr>\n    <tr>\n      <th>27</th>\n      <td>11</td>\n      <td>5</td>\n      <td>0</td>\n      <td>11</td>\n      <td>5</td>\n      <td>0</td>\n      <td>12</td>\n      <td>4</td>\n      <td>0</td>\n    </tr>\n    <tr>\n      <th>28</th>\n      <td>12</td>\n      <td>4</td>\n      <td>0</td>\n      <td>13</td>\n      <td>3</td>\n      <td>0</td>\n      <td>12</td>\n      <td>4</td>\n      <td>0</td>\n    </tr>\n    <tr>\n      <th>29</th>\n      <td>12</td>\n      <td>4</td>\n      <td>0</td>\n      <td>13</td>\n      <td>3</td>\n      <td>0</td>\n      <td>12</td>\n      <td>4</td>\n      <td>0</td>\n    </tr>\n    <tr>\n      <th>30</th>\n      <td>13</td>\n      <td>3</td>\n      <td>0</td>\n      <td>13</td>\n      <td>3</td>\n      <td>0</td>\n      <td>13</td>\n      <td>3</td>\n      <td>0</td>\n    </tr>\n    <tr>\n      <th>31</th>\n      <td>14</td>\n      <td>2</td>\n      <td>0</td>\n      <td>13</td>\n      <td>3</td>\n      <td>0</td>\n      <td>13</td>\n      <td>3</td>\n      <td>0</td>\n    </tr>\n  </tbody>\n</table>\n</div>"
     },
     "metadata": {},
     "execution_count": 65
    }
   ],
   "source": [
    "horizontal_stack = pd.concat([clean_2016, clean_2017, clean_2018], axis=1, ignore_index=True)\n",
    "#df = horizontal_stack.sort_values(by=\"NFL Team\", ascending=True)\n",
    "#df\n",
    "horizontal_stack\n"
   ]
  },
  {
   "cell_type": "code",
   "execution_count": null,
   "metadata": {},
   "outputs": [],
   "source": []
  }
 ]
}