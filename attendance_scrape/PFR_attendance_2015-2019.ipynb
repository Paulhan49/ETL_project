{
 "metadata": {
  "language_info": {
   "codemirror_mode": {
    "name": "ipython",
    "version": 3
   },
   "file_extension": ".py",
   "mimetype": "text/x-python",
   "name": "python",
   "nbconvert_exporter": "python",
   "pygments_lexer": "ipython3",
   "version": "3.6.10-final"
  },
  "orig_nbformat": 2,
  "kernelspec": {
   "name": "python361064bitpythondatacondad85e9534c80747b19acad918860e9ecb",
   "display_name": "Python 3.6.10 64-bit ('PythonData': conda)"
  }
 },
 "nbformat": 4,
 "nbformat_minor": 2,
 "cells": [
  {
   "cell_type": "code",
   "execution_count": 46,
   "metadata": {},
   "outputs": [],
   "source": [
    "# Import libraries \n",
    "\n",
    "from bs4 import BeautifulSoup\n",
    "import pandas as pd\n",
    "import requests as req\n",
    "import numpy as np \n",
    "import time\n",
    "from splinter.exceptions import ElementDoesNotExist\n",
    "from selenium import webdriver\n",
    "\n"
   ]
  },
  {
   "cell_type": "code",
   "execution_count": 47,
   "metadata": {},
   "outputs": [],
   "source": [
    "executable_path = {'executable_path': 'chromedriver.exe'}\n",
    "browser = Browser('chrome', **executable_path, headless=False)"
   ]
  },
  {
   "cell_type": "code",
   "execution_count": 48,
   "metadata": {},
   "outputs": [],
   "source": [
    "# Add the URL links we are scraping\n",
    "url ='https://www.pro-football-reference.com/years/2015/attendance.htm'\n",
    "browser.visit(url)"
   ]
  },
  {
   "cell_type": "code",
   "execution_count": 49,
   "metadata": {},
   "outputs": [],
   "source": [
    "# Make a list of the years\n",
    "years = [2015, 2016, 2017, 2018, 2019]\n",
    "for year in years:\n",
    "    url =f\"https://www.pro-football-reference.com/years/{year}/attendance.htm\"\n",
    "    browser.visit(url)\n",
    "    time.sleep(5)\n",
    "    table = pd.read_html(url)\n",
    "    df = table[0]\n",
    "    df.to_csv(f'{year}.csv')\n"
   ]
  },
  {
   "cell_type": "code",
   "execution_count": 50,
   "metadata": {},
   "outputs": [
    {
     "output_type": "execute_result",
     "data": {
      "text/plain": [
       "[                      Tm     Total      Home      Away   Week 1   Week 2  \\\n",
       " 0      Arizona Cardinals   1000509  490586.0  509923.0    60687    70126   \n",
       " 1        Atlanta Falcons   1099463  572811.0  526652.0    66714    72443   \n",
       " 2       Baltimore Ravens   1091363  565020.0  526343.0    65012    70126   \n",
       " 3          Buffalo Bills   1123350  550713.0  572637.0    78523    74569   \n",
       " 4      Carolina Panthers   1122333  577765.0  544568.0    72005    71101   \n",
       " 5          Chicago Bears   1051152  495332.0  555820.0    62435    76885   \n",
       " 6     Cincinnati Bengals    907640  377432.0  530208.0    68710    50666   \n",
       " 7       Cleveland Browns   1075124  539448.0  535676.0    67431    78523   \n",
       " 8         Dallas Cowboys   1289027  727432.0  561595.0    90353    75128   \n",
       " 9         Denver Broncos   1104191  607497.0  496694.0    52359    76885   \n",
       " 10         Detroit Lions   1011888  490737.0  521151.0    60687    60158   \n",
       " 11     Green Bay Packers   1154661  622762.0  531899.0    62435    78416   \n",
       " 12        Houston Texans   1075836  574345.0  501491.0    73039    71651   \n",
       " 13    Indianapolis Colts    965049  488886.0  476163.0    25363    62849   \n",
       " 14  Jacksonville Jaguars   1014675  504686.0  509989.0    60157    71651   \n",
       " 15    Kansas City Chiefs   1115771  587723.0  528048.0    60157    52748   \n",
       " 16  Los Angeles Chargers    760644  254007.0  506637.0    25363    60158   \n",
       " 17      Los Angeles Rams   1147715  582325.0  565390.0    72005    71460   \n",
       " 18        Miami Dolphins   1067487  504540.0  562947.0    65012    65513   \n",
       " 19     Minnesota Vikings   1070025  534794.0  535231.0    66714    78416   \n",
       " 20  New England Patriots   1087904  527024.0  560880.0    65878    65513   \n",
       " 21    New Orleans Saints   1117057  584660.0  532397.0    73039    71460   \n",
       " 22       New York Giants   1143109  597316.0  545793.0    90353    74569   \n",
       " 23         New York Jets   1116711  628184.0  488527.0    78523    78523   \n",
       " 24       Oakland Raiders    961146  428311.0  532835.0    52359    52748   \n",
       " 25   Philadelphia Eagles   1139525  558268.0  581257.0    69696    72443   \n",
       " 26   Pittsburgh Steelers    986590  497896.0  488694.0    65878    65063   \n",
       " 27   San Francisco 49ers   1080454  562443.0  518011.0    55976    50666   \n",
       " 28      Seattle Seahawks   1101649  551927.0  549722.0    68710    65063   \n",
       " 29  Tampa Bay Buccaneers    949068  415189.0  533879.0    55976    71101   \n",
       " 30      Tennessee Titans   1047496  516074.0  531422.0    67431    62849   \n",
       " 31   Washington Redskins   1101466  523906.0  577560.0    69696    75128   \n",
       " 32                   NaN  17040039       NaN       NaN  1034338  1097299   \n",
       " \n",
       "      Week 3   Week 4   Week 5  Week 6  ...   Week 8  Week 9 Week 10 Week 11  \\\n",
       " 0     60104    60500    46012   60140  ...    73064   60986   40038   69419   \n",
       " 1     60295    72108    71787   60140  ...    71483     Bye   73283   73106   \n",
       " 2     73390    70686    64037   70051  ...      Bye   71157   45918   70731   \n",
       " 3     69448    70317    66910     Bye  ...    69435   67685   67431   64187   \n",
       " 4     60104    71699    72762   60087  ...    69083   72540   78090   73106   \n",
       " 5     67327    62131    60463     Bye  ...    61632   69796   61758   70758   \n",
       " 6     69448    57959    46012   70051  ...    83720     Bye   45918   51921   \n",
       " 7     67431    70686    70585   67431  ...    65878   76743   67431   67431   \n",
       " 8     90127    73086    93024   78523  ...      Bye   76107   91188   61801   \n",
       " 9     78078    76219    25357   75815  ...    61653   76743     Bye   66883   \n",
       " 10    69796    65188      Bye   76947  ...    58509   53318   61758   61801   \n",
       " 11    78078    77509    93024   76947  ...    73558   25435   78090     Bye   \n",
       " 12    25349    71699    71787   73323  ...    71893   84771     Bye   70731   \n",
       " 13    60295    62259    73352     Bye  ...    61653   61115   60510   61986   \n",
       " 14    58613    76219    72762   64341  ...    57833   84771     Bye   61986   \n",
       " 15    73390    65188    73352   73323  ...    73558   73615   68864   76252   \n",
       " 16    25349    64278    25357   25425  ...    61632   25435   51954   76252   \n",
       " 17    67431    68117    68988   75695  ...    83720     Bye   63627   70758   \n",
       " 18    90127    64278      Bye   59808  ...    59244   59229   60510   64187   \n",
       " 19    66738    62131    75041   66837  ...    66776   73615   91188   66883   \n",
       " 20    65878    70317    76483   65878  ...    65878   71157     Bye   69796   \n",
       " 21    69005    73086    73029   64341  ...    73064     Bye   73283   54333   \n",
       " 22    55070    74149    75041   65878  ...    58509   76107   78523     Bye   \n",
       " 23    65878      Bye    69796   78523  ...    57833   59229   78523   56426   \n",
       " 24    66738    62259    60463     Bye  ...    71893   53318   51954   51921   \n",
       " 25    69796    77509    69796   66837  ...    69435   69796     Bye   69796   \n",
       " 26    69439    57959    64037   25425  ...    59244   61115   63627   67431   \n",
       " 27    69439      Bye    70585   75695  ...    69083   60986   71404   69419   \n",
       " 28    69005    60500    68988   67431  ...    71483   68948   71404     Bye   \n",
       " 29    55070    68117    73029   60087  ...    62073   68948   40038   54333   \n",
       " 30    58613    72108    66910   75815  ...    62073   72540   68864     Bye   \n",
       " 31    67327    74149    76483   59808  ...    66776   67685     Bye   56426   \n",
       " 32  1046088  1026205  1007626  920301  ...  1005834  921445  852588  915030   \n",
       " \n",
       "    Week 12  Week 13  Week 14  Week 15  Week 16  Week 17  \n",
       " 0      Bye    60944    63880    63345    69022    68665  \n",
       " 1    71463    71993    70592    70910    70873    50417  \n",
       " 2    72409    71029    69134    70545    67431    70695  \n",
       " 3    67338    90445    69134    64694    65878    69016  \n",
       " 4    73068    71504    70592    72544    61845    72203  \n",
       " 5    61581    65412    61276    78266    62213    66913  \n",
       " 6    47423    39804    67431    57066    60968    47759  \n",
       " 7    67431    62157    67431    63345    67431    47759  \n",
       " 8    65878    90445    61276    90436    69796    90646  \n",
       " 9    67338    74638    71769    73257    74115    76334  \n",
       " 10   57754    65412    66776    56515    74115    62840  \n",
       " 11   71500    75950    77296    78266    67157    62840  \n",
       " 12   71727    72025    71769    65265    49036    71794  \n",
       " 13   71727    60361    50232    73053    61845    58472  \n",
       " 14   60926    62633    57866    52788    70873    58472  \n",
       " 15     Bye    73548    65878    73257    62213    73680  \n",
       " 16     Bye    74638    57866    25446    25380    73680  \n",
       " 17   72409    60944    71501    90436    70103    68665  \n",
       " 18   67431    65545    78523    72894    60968    65878  \n",
       " 19     Bye    69080    66776    25446    67157    66913  \n",
       " 20   65878    72025    65878    57066    65878    65878  \n",
       " 21   73068    71993    73038    73053    66756    72203  \n",
       " 22   61581    75950    69796    72894    66083    75029  \n",
       " 23   78523    39804    78523    70545    78523    69016  \n",
       " 24   78523    73548    52760    52788    25380    76334  \n",
       " 25   69796    65545    69796    63246    69796    75029  \n",
       " 26   47423    62157    63880    64694    78523    70695  \n",
       " 27   71500    71029    73038    70910    70103    69162  \n",
       " 28   69796    69080    71501    72544    69022    69162  \n",
       " 29   71463    62633    50232    56515    49036    50417  \n",
       " 30   60926    60361    52760    65265    66756    71794  \n",
       " 31   57754    71504    77296    63246    66083    90646  \n",
       " 32  936817  1087068  1067748  1050270  1025179  1089503  \n",
       " \n",
       " [33 rows x 21 columns]]"
      ]
     },
     "metadata": {},
     "execution_count": 50
    }
   ],
   "source": [
    "table"
   ]
  },
  {
   "cell_type": "code",
   "execution_count": 51,
   "metadata": {},
   "outputs": [],
   "source": [
    "browser.quit()"
   ]
  },
  {
   "cell_type": "code",
   "execution_count": 35,
   "metadata": {},
   "outputs": [],
   "source": []
  }
 ]
}