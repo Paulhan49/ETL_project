{
 "metadata": {
  "language_info": {
   "codemirror_mode": {
    "name": "ipython",
    "version": 3
   },
   "file_extension": ".py",
   "mimetype": "text/x-python",
   "name": "python",
   "nbconvert_exporter": "python",
   "pygments_lexer": "ipython3",
   "version": "3.8.3-final"
  },
  "orig_nbformat": 2,
  "kernelspec": {
   "name": "python3",
   "display_name": "Python 3"
  }
 },
 "nbformat": 4,
 "nbformat_minor": 2,
 "cells": [
  {
   "cell_type": "code",
   "execution_count": 1,
   "metadata": {},
   "outputs": [],
   "source": [
    "from bs4 import BeautifulSoup as bs\n",
    "import pandas as pd\n",
    "import requests as req\n",
    "from splinter import Browser\n",
    "from selenium import webdriver\n",
    "import time\n",
    "import pymongo\n",
    "import json"
   ]
  },
  {
   "cell_type": "code",
   "execution_count": 2,
   "metadata": {},
   "outputs": [],
   "source": [
    "conn = 'mongodb://localhost:27017'\n",
    "client = pymongo.MongoClient(conn)"
   ]
  },
  {
   "cell_type": "code",
   "execution_count": 3,
   "metadata": {},
   "outputs": [],
   "source": [
    "db = client.nfl_db\n",
    "collection = db.years"
   ]
  },
  {
   "cell_type": "code",
   "execution_count": 27,
   "metadata": {},
   "outputs": [],
   "source": [
    "executable_path = {'executable_path': 'chromedriver.exe'}\n",
    "browser = Browser('chrome', **executable_path, headless=False)"
   ]
  },
  {
   "cell_type": "code",
   "execution_count": 5,
   "metadata": {},
   "outputs": [],
   "source": [
    "years = [2015, 2016, 2017, 2018, 2019]\n"
   ]
  },
  {
   "cell_type": "code",
   "execution_count": 128,
   "metadata": {},
   "outputs": [],
   "source": [
    "#for year in years:\n",
    " #   url =f\"https://www.nfl.com/standings/league/{year}/reg/\"\n",
    "    \n",
    "  #  browser.visit(url)\n",
    "   # time.sleep(5)\n",
    "    #table = pd.read_html(url)\n",
    "    #df = table[0]\n",
    "    #df.to_csv(f'{year}record.csv')\n"
   ]
  },
  {
   "cell_type": "code",
   "execution_count": 4,
   "metadata": {},
   "outputs": [],
   "source": [
    "years = [2015, 2016, 2017, 2018, 2019]\n"
   ]
  },
  {
   "cell_type": "code",
   "execution_count": 6,
   "metadata": {},
   "outputs": [
    {
     "output_type": "error",
     "ename": "IndentationError",
     "evalue": "unexpected indent (<ipython-input-6-30f1ef9a1bdc>, line 2)",
     "traceback": [
      "\u001b[1;36m  File \u001b[1;32m\"<ipython-input-6-30f1ef9a1bdc>\"\u001b[1;36m, line \u001b[1;32m2\u001b[0m\n\u001b[1;33m    url =f\"https://www.nfl.com/standings/league/2015/reg/\"\u001b[0m\n\u001b[1;37m    ^\u001b[0m\n\u001b[1;31mIndentationError\u001b[0m\u001b[1;31m:\u001b[0m unexpected indent\n"
     ]
    }
   ],
   "source": [
    "for year in years:\n",
    "    url =f\"https://www.nfl.com/standings/league/{year}/reg/\"\n",
    "    \n",
    "    browser.visit(url)\n",
    "    time.sleep(5)\n",
    "    table = soup.find(\"table\")\n",
    "    trs = table.find_all('tr')[1:]\n",
    "    print(trs)"
   ]
  },
  {
   "cell_type": "code",
   "execution_count": 30,
   "metadata": {
    "tags": []
   },
   "outputs": [
    {
     "output_type": "error",
     "ename": "ValueError",
     "evalue": "Shape of passed values is (18, 1), indices imply (18, 17)",
     "traceback": [
      "\u001b[1;31m---------------------------------------------------------------------------\u001b[0m",
      "\u001b[1;31mValueError\u001b[0m                                Traceback (most recent call last)",
      "\u001b[1;32m~\\anaconda3\\lib\\site-packages\\pandas\\core\\internals\\managers.py\u001b[0m in \u001b[0;36mcreate_block_manager_from_blocks\u001b[1;34m(blocks, axes)\u001b[0m\n\u001b[0;32m   1653\u001b[0m                 blocks = [\n\u001b[1;32m-> 1654\u001b[1;33m                     \u001b[0mmake_block\u001b[0m\u001b[1;33m(\u001b[0m\u001b[0mvalues\u001b[0m\u001b[1;33m=\u001b[0m\u001b[0mblocks\u001b[0m\u001b[1;33m[\u001b[0m\u001b[1;36m0\u001b[0m\u001b[1;33m]\u001b[0m\u001b[1;33m,\u001b[0m \u001b[0mplacement\u001b[0m\u001b[1;33m=\u001b[0m\u001b[0mslice\u001b[0m\u001b[1;33m(\u001b[0m\u001b[1;36m0\u001b[0m\u001b[1;33m,\u001b[0m \u001b[0mlen\u001b[0m\u001b[1;33m(\u001b[0m\u001b[0maxes\u001b[0m\u001b[1;33m[\u001b[0m\u001b[1;36m0\u001b[0m\u001b[1;33m]\u001b[0m\u001b[1;33m)\u001b[0m\u001b[1;33m)\u001b[0m\u001b[1;33m)\u001b[0m\u001b[1;33m\u001b[0m\u001b[1;33m\u001b[0m\u001b[0m\n\u001b[0m\u001b[0;32m   1655\u001b[0m                 ]\n",
      "\u001b[1;32m~\\anaconda3\\lib\\site-packages\\pandas\\core\\internals\\blocks.py\u001b[0m in \u001b[0;36mmake_block\u001b[1;34m(values, placement, klass, ndim, dtype)\u001b[0m\n\u001b[0;32m   3052\u001b[0m \u001b[1;33m\u001b[0m\u001b[0m\n\u001b[1;32m-> 3053\u001b[1;33m     \u001b[1;32mreturn\u001b[0m \u001b[0mklass\u001b[0m\u001b[1;33m(\u001b[0m\u001b[0mvalues\u001b[0m\u001b[1;33m,\u001b[0m \u001b[0mndim\u001b[0m\u001b[1;33m=\u001b[0m\u001b[0mndim\u001b[0m\u001b[1;33m,\u001b[0m \u001b[0mplacement\u001b[0m\u001b[1;33m=\u001b[0m\u001b[0mplacement\u001b[0m\u001b[1;33m)\u001b[0m\u001b[1;33m\u001b[0m\u001b[1;33m\u001b[0m\u001b[0m\n\u001b[0m\u001b[0;32m   3054\u001b[0m \u001b[1;33m\u001b[0m\u001b[0m\n",
      "\u001b[1;32m~\\anaconda3\\lib\\site-packages\\pandas\\core\\internals\\blocks.py\u001b[0m in \u001b[0;36m__init__\u001b[1;34m(self, values, placement, ndim)\u001b[0m\n\u001b[0;32m   2600\u001b[0m \u001b[1;33m\u001b[0m\u001b[0m\n\u001b[1;32m-> 2601\u001b[1;33m         \u001b[0msuper\u001b[0m\u001b[1;33m(\u001b[0m\u001b[1;33m)\u001b[0m\u001b[1;33m.\u001b[0m\u001b[0m__init__\u001b[0m\u001b[1;33m(\u001b[0m\u001b[0mvalues\u001b[0m\u001b[1;33m,\u001b[0m \u001b[0mndim\u001b[0m\u001b[1;33m=\u001b[0m\u001b[0mndim\u001b[0m\u001b[1;33m,\u001b[0m \u001b[0mplacement\u001b[0m\u001b[1;33m=\u001b[0m\u001b[0mplacement\u001b[0m\u001b[1;33m)\u001b[0m\u001b[1;33m\u001b[0m\u001b[1;33m\u001b[0m\u001b[0m\n\u001b[0m\u001b[0;32m   2602\u001b[0m \u001b[1;33m\u001b[0m\u001b[0m\n",
      "\u001b[1;32m~\\anaconda3\\lib\\site-packages\\pandas\\core\\internals\\blocks.py\u001b[0m in \u001b[0;36m__init__\u001b[1;34m(self, values, placement, ndim)\u001b[0m\n\u001b[0;32m    123\u001b[0m         \u001b[1;32mif\u001b[0m \u001b[0mself\u001b[0m\u001b[1;33m.\u001b[0m\u001b[0m_validate_ndim\u001b[0m \u001b[1;32mand\u001b[0m \u001b[0mself\u001b[0m\u001b[1;33m.\u001b[0m\u001b[0mndim\u001b[0m \u001b[1;32mand\u001b[0m \u001b[0mlen\u001b[0m\u001b[1;33m(\u001b[0m\u001b[0mself\u001b[0m\u001b[1;33m.\u001b[0m\u001b[0mmgr_locs\u001b[0m\u001b[1;33m)\u001b[0m \u001b[1;33m!=\u001b[0m \u001b[0mlen\u001b[0m\u001b[1;33m(\u001b[0m\u001b[0mself\u001b[0m\u001b[1;33m.\u001b[0m\u001b[0mvalues\u001b[0m\u001b[1;33m)\u001b[0m\u001b[1;33m:\u001b[0m\u001b[1;33m\u001b[0m\u001b[1;33m\u001b[0m\u001b[0m\n\u001b[1;32m--> 124\u001b[1;33m             raise ValueError(\n\u001b[0m\u001b[0;32m    125\u001b[0m                 \u001b[1;34mf\"Wrong number of items passed {len(self.values)}, \"\u001b[0m\u001b[1;33m\u001b[0m\u001b[1;33m\u001b[0m\u001b[0m\n",
      "\u001b[1;31mValueError\u001b[0m: Wrong number of items passed 1, placement implies 17",
      "\nDuring handling of the above exception, another exception occurred:\n",
      "\u001b[1;31mValueError\u001b[0m                                Traceback (most recent call last)",
      "\u001b[1;32m<ipython-input-30-c81cb732804a>\u001b[0m in \u001b[0;36m<module>\u001b[1;34m\u001b[0m\n\u001b[0;32m     18\u001b[0m         \u001b[1;32mif\u001b[0m \u001b[0mrow\u001b[0m\u001b[1;33m:\u001b[0m\u001b[1;33m\u001b[0m\u001b[1;33m\u001b[0m\u001b[0m\n\u001b[0;32m     19\u001b[0m             \u001b[0mrow\u001b[0m\u001b[1;33m.\u001b[0m\u001b[0mappend\u001b[0m\u001b[1;33m(\u001b[0m\u001b[0mrow\u001b[0m\u001b[1;33m)\u001b[0m\u001b[1;33m\u001b[0m\u001b[1;33m\u001b[0m\u001b[0m\n\u001b[1;32m---> 20\u001b[1;33m             \u001b[0mdf\u001b[0m \u001b[1;33m=\u001b[0m \u001b[0mpd\u001b[0m\u001b[1;33m.\u001b[0m\u001b[0mDataFrame\u001b[0m\u001b[1;33m(\u001b[0m\u001b[0mrow\u001b[0m\u001b[1;33m,\u001b[0m \u001b[0mcolumns\u001b[0m\u001b[1;33m=\u001b[0m\u001b[1;33m[\u001b[0m\u001b[1;34m'NFL Team'\u001b[0m\u001b[1;33m,\u001b[0m \u001b[1;34m'W'\u001b[0m\u001b[1;33m,\u001b[0m \u001b[1;34m'L'\u001b[0m\u001b[1;33m,\u001b[0m \u001b[1;34m'T'\u001b[0m\u001b[1;33m,\u001b[0m\u001b[1;34m'PCT'\u001b[0m\u001b[1;33m,\u001b[0m\u001b[1;34m'PF'\u001b[0m\u001b[1;33m,\u001b[0m\u001b[1;34m'PA'\u001b[0m\u001b[1;33m,\u001b[0m\u001b[1;34m'Net Pts'\u001b[0m\u001b[1;33m,\u001b[0m\u001b[1;34m'Home'\u001b[0m\u001b[1;33m,\u001b[0m \u001b[1;34m'Road'\u001b[0m\u001b[1;33m,\u001b[0m \u001b[1;34m'Div'\u001b[0m\u001b[1;33m,\u001b[0m\u001b[1;34m'Pct'\u001b[0m\u001b[1;33m,\u001b[0m\u001b[1;34m'Conf'\u001b[0m\u001b[1;33m,\u001b[0m     \u001b[1;34m'Pct'\u001b[0m\u001b[1;33m,\u001b[0m\u001b[1;34m'Non-Conf'\u001b[0m\u001b[1;33m,\u001b[0m\u001b[1;34m'Strk'\u001b[0m\u001b[1;33m,\u001b[0m\u001b[1;34m'Last 5'\u001b[0m\u001b[1;33m]\u001b[0m\u001b[1;33m)\u001b[0m\u001b[1;33m\u001b[0m\u001b[1;33m\u001b[0m\u001b[0m\n\u001b[0m\u001b[0;32m     21\u001b[0m             \u001b[0mdf\u001b[0m\u001b[1;33m[\u001b[0m\u001b[1;34m'NFL Team'\u001b[0m\u001b[1;33m]\u001b[0m \u001b[1;33m=\u001b[0m \u001b[0mdf\u001b[0m\u001b[1;33m[\u001b[0m\u001b[1;34m'NFL Team'\u001b[0m\u001b[1;33m]\u001b[0m\u001b[1;33m.\u001b[0m\u001b[0mstr\u001b[0m\u001b[1;33m.\u001b[0m\u001b[0mreplace\u001b[0m\u001b[1;33m(\u001b[0m\u001b[1;34mr'\\n'\u001b[0m\u001b[1;33m,\u001b[0m \u001b[1;34m''\u001b[0m\u001b[1;33m)\u001b[0m\u001b[1;33m\u001b[0m\u001b[1;33m\u001b[0m\u001b[0m\n\u001b[0;32m     22\u001b[0m             \u001b[0mdf\u001b[0m\u001b[1;33m[\u001b[0m\u001b[1;34m'NFL Team'\u001b[0m\u001b[1;33m]\u001b[0m \u001b[1;33m=\u001b[0m \u001b[0mdf\u001b[0m\u001b[1;33m[\u001b[0m\u001b[1;34m'NFL Team'\u001b[0m\u001b[1;33m]\u001b[0m\u001b[1;33m.\u001b[0m\u001b[0mstr\u001b[0m\u001b[1;33m.\u001b[0m\u001b[0mreplace\u001b[0m\u001b[1;33m(\u001b[0m\u001b[1;34mr'.'\u001b[0m\u001b[1;33m,\u001b[0m \u001b[1;34m''\u001b[0m\u001b[1;33m)\u001b[0m\u001b[1;33m\u001b[0m\u001b[1;33m\u001b[0m\u001b[0m\n",
      "\u001b[1;32m~\\anaconda3\\lib\\site-packages\\pandas\\core\\frame.py\u001b[0m in \u001b[0;36m__init__\u001b[1;34m(self, data, index, columns, dtype, copy)\u001b[0m\n\u001b[0;32m    486\u001b[0m                     \u001b[0mmgr\u001b[0m \u001b[1;33m=\u001b[0m \u001b[0marrays_to_mgr\u001b[0m\u001b[1;33m(\u001b[0m\u001b[0marrays\u001b[0m\u001b[1;33m,\u001b[0m \u001b[0mcolumns\u001b[0m\u001b[1;33m,\u001b[0m \u001b[0mindex\u001b[0m\u001b[1;33m,\u001b[0m \u001b[0mcolumns\u001b[0m\u001b[1;33m,\u001b[0m \u001b[0mdtype\u001b[0m\u001b[1;33m=\u001b[0m\u001b[0mdtype\u001b[0m\u001b[1;33m)\u001b[0m\u001b[1;33m\u001b[0m\u001b[1;33m\u001b[0m\u001b[0m\n\u001b[0;32m    487\u001b[0m                 \u001b[1;32melse\u001b[0m\u001b[1;33m:\u001b[0m\u001b[1;33m\u001b[0m\u001b[1;33m\u001b[0m\u001b[0m\n\u001b[1;32m--> 488\u001b[1;33m                     \u001b[0mmgr\u001b[0m \u001b[1;33m=\u001b[0m \u001b[0minit_ndarray\u001b[0m\u001b[1;33m(\u001b[0m\u001b[0mdata\u001b[0m\u001b[1;33m,\u001b[0m \u001b[0mindex\u001b[0m\u001b[1;33m,\u001b[0m \u001b[0mcolumns\u001b[0m\u001b[1;33m,\u001b[0m \u001b[0mdtype\u001b[0m\u001b[1;33m=\u001b[0m\u001b[0mdtype\u001b[0m\u001b[1;33m,\u001b[0m \u001b[0mcopy\u001b[0m\u001b[1;33m=\u001b[0m\u001b[0mcopy\u001b[0m\u001b[1;33m)\u001b[0m\u001b[1;33m\u001b[0m\u001b[1;33m\u001b[0m\u001b[0m\n\u001b[0m\u001b[0;32m    489\u001b[0m             \u001b[1;32melse\u001b[0m\u001b[1;33m:\u001b[0m\u001b[1;33m\u001b[0m\u001b[1;33m\u001b[0m\u001b[0m\n\u001b[0;32m    490\u001b[0m                 \u001b[0mmgr\u001b[0m \u001b[1;33m=\u001b[0m \u001b[0minit_dict\u001b[0m\u001b[1;33m(\u001b[0m\u001b[1;33m{\u001b[0m\u001b[1;33m}\u001b[0m\u001b[1;33m,\u001b[0m \u001b[0mindex\u001b[0m\u001b[1;33m,\u001b[0m \u001b[0mcolumns\u001b[0m\u001b[1;33m,\u001b[0m \u001b[0mdtype\u001b[0m\u001b[1;33m=\u001b[0m\u001b[0mdtype\u001b[0m\u001b[1;33m)\u001b[0m\u001b[1;33m\u001b[0m\u001b[1;33m\u001b[0m\u001b[0m\n",
      "\u001b[1;32m~\\anaconda3\\lib\\site-packages\\pandas\\core\\internals\\construction.py\u001b[0m in \u001b[0;36minit_ndarray\u001b[1;34m(values, index, columns, dtype, copy)\u001b[0m\n\u001b[0;32m    208\u001b[0m         \u001b[0mblock_values\u001b[0m \u001b[1;33m=\u001b[0m \u001b[1;33m[\u001b[0m\u001b[0mvalues\u001b[0m\u001b[1;33m]\u001b[0m\u001b[1;33m\u001b[0m\u001b[1;33m\u001b[0m\u001b[0m\n\u001b[0;32m    209\u001b[0m \u001b[1;33m\u001b[0m\u001b[0m\n\u001b[1;32m--> 210\u001b[1;33m     \u001b[1;32mreturn\u001b[0m \u001b[0mcreate_block_manager_from_blocks\u001b[0m\u001b[1;33m(\u001b[0m\u001b[0mblock_values\u001b[0m\u001b[1;33m,\u001b[0m \u001b[1;33m[\u001b[0m\u001b[0mcolumns\u001b[0m\u001b[1;33m,\u001b[0m \u001b[0mindex\u001b[0m\u001b[1;33m]\u001b[0m\u001b[1;33m)\u001b[0m\u001b[1;33m\u001b[0m\u001b[1;33m\u001b[0m\u001b[0m\n\u001b[0m\u001b[0;32m    211\u001b[0m \u001b[1;33m\u001b[0m\u001b[0m\n\u001b[0;32m    212\u001b[0m \u001b[1;33m\u001b[0m\u001b[0m\n",
      "\u001b[1;32m~\\anaconda3\\lib\\site-packages\\pandas\\core\\internals\\managers.py\u001b[0m in \u001b[0;36mcreate_block_manager_from_blocks\u001b[1;34m(blocks, axes)\u001b[0m\n\u001b[0;32m   1662\u001b[0m         \u001b[0mblocks\u001b[0m \u001b[1;33m=\u001b[0m \u001b[1;33m[\u001b[0m\u001b[0mgetattr\u001b[0m\u001b[1;33m(\u001b[0m\u001b[0mb\u001b[0m\u001b[1;33m,\u001b[0m \u001b[1;34m\"values\"\u001b[0m\u001b[1;33m,\u001b[0m \u001b[0mb\u001b[0m\u001b[1;33m)\u001b[0m \u001b[1;32mfor\u001b[0m \u001b[0mb\u001b[0m \u001b[1;32min\u001b[0m \u001b[0mblocks\u001b[0m\u001b[1;33m]\u001b[0m\u001b[1;33m\u001b[0m\u001b[1;33m\u001b[0m\u001b[0m\n\u001b[0;32m   1663\u001b[0m         \u001b[0mtot_items\u001b[0m \u001b[1;33m=\u001b[0m \u001b[0msum\u001b[0m\u001b[1;33m(\u001b[0m\u001b[0mb\u001b[0m\u001b[1;33m.\u001b[0m\u001b[0mshape\u001b[0m\u001b[1;33m[\u001b[0m\u001b[1;36m0\u001b[0m\u001b[1;33m]\u001b[0m \u001b[1;32mfor\u001b[0m \u001b[0mb\u001b[0m \u001b[1;32min\u001b[0m \u001b[0mblocks\u001b[0m\u001b[1;33m)\u001b[0m\u001b[1;33m\u001b[0m\u001b[1;33m\u001b[0m\u001b[0m\n\u001b[1;32m-> 1664\u001b[1;33m         \u001b[0mconstruction_error\u001b[0m\u001b[1;33m(\u001b[0m\u001b[0mtot_items\u001b[0m\u001b[1;33m,\u001b[0m \u001b[0mblocks\u001b[0m\u001b[1;33m[\u001b[0m\u001b[1;36m0\u001b[0m\u001b[1;33m]\u001b[0m\u001b[1;33m.\u001b[0m\u001b[0mshape\u001b[0m\u001b[1;33m[\u001b[0m\u001b[1;36m1\u001b[0m\u001b[1;33m:\u001b[0m\u001b[1;33m]\u001b[0m\u001b[1;33m,\u001b[0m \u001b[0maxes\u001b[0m\u001b[1;33m,\u001b[0m \u001b[0me\u001b[0m\u001b[1;33m)\u001b[0m\u001b[1;33m\u001b[0m\u001b[1;33m\u001b[0m\u001b[0m\n\u001b[0m\u001b[0;32m   1665\u001b[0m \u001b[1;33m\u001b[0m\u001b[0m\n\u001b[0;32m   1666\u001b[0m \u001b[1;33m\u001b[0m\u001b[0m\n",
      "\u001b[1;32m~\\anaconda3\\lib\\site-packages\\pandas\\core\\internals\\managers.py\u001b[0m in \u001b[0;36mconstruction_error\u001b[1;34m(tot_items, block_shape, axes, e)\u001b[0m\n\u001b[0;32m   1692\u001b[0m     \u001b[1;32mif\u001b[0m \u001b[0mblock_shape\u001b[0m\u001b[1;33m[\u001b[0m\u001b[1;36m0\u001b[0m\u001b[1;33m]\u001b[0m \u001b[1;33m==\u001b[0m \u001b[1;36m0\u001b[0m\u001b[1;33m:\u001b[0m\u001b[1;33m\u001b[0m\u001b[1;33m\u001b[0m\u001b[0m\n\u001b[0;32m   1693\u001b[0m         \u001b[1;32mraise\u001b[0m \u001b[0mValueError\u001b[0m\u001b[1;33m(\u001b[0m\u001b[1;34m\"Empty data passed with indices specified.\"\u001b[0m\u001b[1;33m)\u001b[0m\u001b[1;33m\u001b[0m\u001b[1;33m\u001b[0m\u001b[0m\n\u001b[1;32m-> 1694\u001b[1;33m     \u001b[1;32mraise\u001b[0m \u001b[0mValueError\u001b[0m\u001b[1;33m(\u001b[0m\u001b[1;34mf\"Shape of passed values is {passed}, indices imply {implied}\"\u001b[0m\u001b[1;33m)\u001b[0m\u001b[1;33m\u001b[0m\u001b[1;33m\u001b[0m\u001b[0m\n\u001b[0m\u001b[0;32m   1695\u001b[0m \u001b[1;33m\u001b[0m\u001b[0m\n\u001b[0;32m   1696\u001b[0m \u001b[1;33m\u001b[0m\u001b[0m\n",
      "\u001b[1;31mValueError\u001b[0m: Shape of passed values is (18, 1), indices imply (18, 17)"
     ]
    }
   ],
   "source": [
    "for year in years:\n",
    "    url =f\"https://www.nfl.com/standings/league/{year}/reg/\"\n",
    "    browser.visit(url)\n",
    "    time.sleep(5)\n",
    "    html = browser.html\n",
    "    soup = bs(html, \"html.parser\")\n",
    "    table = soup.find(\"table\")\n",
    "\n",
    "    table_rows = table.find_all('tr')\n",
    "    collection = db.years\n",
    "    db.collection.insert(records)\n",
    "    #needs to be run once for the above line to work not really sure how to fix that. \n",
    "    res = []\n",
    "    row = []\n",
    "    for tr in table_rows:\n",
    "        td = tr.find_all('td')\n",
    "        row = [tr.text.strip() for tr in td if tr.text.strip()]\n",
    "        if row:\n",
    "            row.append(row)\n",
    "            df = pd.DataFrame(row, columns=['NFL Team',\t'W', 'L', 'T','PCT','PF','PA','Net Pts','Home',\t'Road', 'Div','Pct','Conf',\t'Pct','Non-Conf','Strk','Last 5'])\n",
    "            df['NFL Team'] = df['NFL Team'].str.replace(r'\\n', '')\n",
    "            df['NFL Team'] = df['NFL Team'].str.replace(r'.', '')\n",
    "            df['NFL Team'] = df['NFL Team'].str.replace(r'xz', '')\n",
    "            df['NFL Team'] = df['NFL Team'].str.replace(r'x', '')\n",
    "            df['NFL Team']  = df['NFL Team'].str.replace(r'xy', '')\n",
    "            df['NFL Team']  = df['NFL Team'].str.replace(r'*', '')\n",
    "            df['NFL Team'] = df['NFL Team'].str.replace(r'\\b(\\w+)(\\s+\\1)+\\b', r'\\1')\n",
    "            df['year'] = f'{year}'\n",
    "            df.set_index('NFL Team', inplace=True)\n",
    "            records = df.to_dict(orient='index')\n",
    "            #db.collection.insert(records)"
   ]
  },
  {
   "cell_type": "code",
   "execution_count": 26,
   "metadata": {},
   "outputs": [
    {
     "output_type": "execute_result",
     "data": {
      "text/plain": [
       "['Cincinnati Bengals\\n            \\n          \\n\\n            Bengals',\n",
       " '2',\n",
       " '14',\n",
       " '0',\n",
       " '0.125',\n",
       " '279',\n",
       " '420',\n",
       " '-141',\n",
       " '2 - 6 - 0',\n",
       " '0 - 8 - 0',\n",
       " '1 - 5 - 0',\n",
       " '0.167',\n",
       " '2 - 10 - 0',\n",
       " '0.167',\n",
       " '0 - 4 - 0',\n",
       " '1W',\n",
       " '2 - 3 - 0']"
      ]
     },
     "metadata": {},
     "execution_count": 26
    }
   ],
   "source": [
    "row"
   ]
  },
  {
   "cell_type": "code",
   "execution_count": null,
   "metadata": {},
   "outputs": [],
   "source": [
    " df = pd.DataFrame(row, columns=['NFL Team',\t'W', 'L', 'T','PCT','PF','PA','Net Pts','Home',\t'Road', 'Div','Pct','Conf',\t'Pct','Non-Conf','Strk','Last 5'])\n",
    "            df['NFL Team'] = df['NFL Team'].str.replace(r'\\n', '')\n",
    "            df['NFL Team'] = df['NFL Team'].str.replace(r'.', '')\n",
    "            df['NFL Team'] = df['NFL Team'].str.replace(r'xz', '')\n",
    "            df['NFL Team'] = df['NFL Team'].str.replace(r'z', '')\n",
    "            df['NFL Team']  = df['NFL Team'].str.replace(r'xy', '')\n",
    "            df['NFL Team']  = df['NFL Team'].str.replace(r'*', '')\n",
    "            df['NFL Team'] = df['NFL Team'].str.replace(r'\\b(\\w+)(\\s+\\1)+\\b', r'\\1')\n",
    "            df['year'] = f'{year}'\n",
    "            df.set_index('NFL Team', inplace=True)\n",
    "            records = df.to_dict(orient='index')"
   ]
  },
  {
   "cell_type": "code",
   "execution_count": 114,
   "metadata": {},
   "outputs": [
    {
     "output_type": "execute_result",
     "data": {
      "text/plain": [
       "                                   W   L  T    PCT   PF   PA Net Pts  \\\n",
       "NFL Team                                                               \n",
       "Cleveland Browns                   3  13  0  0.188  278  432    -154   \n",
       "Tennessee Titans                   3  13  0  0.188  299  423    -124   \n",
       "Dallas Cowboys                     4  12  0  0.250  275  374     -99   \n",
       "San Diego Chargers                 4  12  0  0.250  320  398     -78   \n",
       "Baltimore Ravens                   5  11  0  0.313  328  401     -73   \n",
       "Jacksonville Jaguars               5  11  0  0.313  376  448     -72   \n",
       "San Francisco 49ers                5  11  0  0.313  238  387    -149   \n",
       "Chicago Bears                      6  10  0  0.375  335  397     -62   \n",
       "Miami Dolphins                     6  10  0  0.375  310  389     -79   \n",
       "New York Giants                    6  10  0  0.375  420  442     -22   \n",
       "Tampa Bay Buccaneers               6  10  0  0.375  342  417     -75   \n",
       "Detroit Lions                      7   9  0  0.438  358  400     -42   \n",
       "New Orleans Saints                 7   9  0  0.438  408  476     -68   \n",
       "Oakland Raiders                    7   9  0  0.438  359  399     -40   \n",
       "Philadelphia Eagles                7   9  0  0.438  377  430     -53   \n",
       "St Louis Rams                      7   9  0  0.438  280  330     -50   \n",
       "Atlanta Falcons                    8   8  0  0.500  339  345      -6   \n",
       "Buffalo Bills                      8   8  0  0.500  379  359      20   \n",
       "Indianapolis Colts                 8   8  0  0.500  333  408     -75   \n",
       "Houston Texans                     9   7  0  0.563  339  313      26   \n",
       "Washington Redskins                9   7  0  0.563  388  379       9   \n",
       "Green Bay Packers                 10   6  0  0.625  368  323      45   \n",
       "New York Jets                     10   6  0  0.625  387  314      73   \n",
       "Pittsburgh Steelers               10   6  0  0.625  423  319     104   \n",
       "Seattle Seahawks                  10   6  0  0.625  423  277     146   \n",
       "Kansas City Chiefs                11   5  0  0.688  405  287     118   \n",
       "Minnesota Vikings                 11   5  0  0.688  365  302      63   \n",
       "Cincinnati Bengals                12   4  0  0.750  419  279     140   \n",
       "Denver Broncos                    12   4  0  0.750  355  296      59   \n",
       "New England Patriots              12   4  0  0.750  465  315     150   \n",
       "Arizona Cardinals                 13   3  0  0.813  489  313     176   \n",
       "Carolina Panthers                 15   1  0  0.938  500  308     192   \n",
       "\n",
       "                                       Home       Road        Div    Pct  \\\n",
       "NFL Team                                                                   \n",
       "Cleveland Browns                  2 - 6 - 0  1 - 7 - 0  1 - 5 - 0  0.167   \n",
       "Tennessee Titans                  1 - 7 - 0  2 - 6 - 0  1 - 5 - 0  0.167   \n",
       "Dallas Cowboys                    1 - 7 - 0  3 - 5 - 0  3 - 3 - 0  0.500   \n",
       "San Diego Chargers                3 - 5 - 0  1 - 7 - 0  0 - 6 - 0  0.000   \n",
       "Baltimore Ravens                  3 - 5 - 0  2 - 6 - 0  3 - 3 - 0  0.500   \n",
       "Jacksonville Jaguars              4 - 4 - 0  1 - 7 - 0  2 - 4 - 0  0.333   \n",
       "San Francisco 49ers               4 - 4 - 0  1 - 7 - 0  1 - 5 - 0  0.167   \n",
       "Chicago Bears                     1 - 7 - 0  5 - 3 - 0  1 - 5 - 0  0.167   \n",
       "Miami Dolphins                    3 - 5 - 0  3 - 5 - 0  1 - 5 - 0  0.167   \n",
       "New York Giants                   3 - 5 - 0  3 - 5 - 0  2 - 4 - 0  0.333   \n",
       "Tampa Bay Buccaneers              3 - 5 - 0  3 - 5 - 0  3 - 3 - 0  0.500   \n",
       "Detroit Lions                     4 - 4 - 0  3 - 5 - 0  3 - 3 - 0  0.500   \n",
       "New Orleans Saints                4 - 4 - 0  3 - 5 - 0  3 - 3 - 0  0.500   \n",
       "Oakland Raiders                   3 - 5 - 0  4 - 4 - 0  3 - 3 - 0  0.500   \n",
       "Philadelphia Eagles               3 - 5 - 0  4 - 4 - 0  3 - 3 - 0  0.500   \n",
       "St Louis Rams                     5 - 3 - 0  2 - 6 - 0  4 - 2 - 0  0.667   \n",
       "Atlanta Falcons                   4 - 4 - 0  4 - 4 - 0  1 - 5 - 0  0.167   \n",
       "Buffalo Bills                     5 - 3 - 0  3 - 5 - 0  4 - 2 - 0  0.667   \n",
       "Indianapolis Colts                4 - 4 - 0  4 - 4 - 0  4 - 2 - 0  0.667   \n",
       "Houston Texans                    5 - 3 - 0  4 - 4 - 0  5 - 1 - 0  0.833   \n",
       "Washington Redskins               6 - 2 - 0  3 - 5 - 0  4 - 2 - 0  0.667   \n",
       "Green Bay Packers                 5 - 3 - 0  5 - 3 - 0  3 - 3 - 0  0.500   \n",
       "New York Jets                     6 - 2 - 0  4 - 4 - 0  3 - 3 - 0  0.500   \n",
       "Pittsburgh Steelers               6 - 2 - 0  4 - 4 - 0  3 - 3 - 0  0.500   \n",
       "Seattle Seahawks                  5 - 3 - 0  5 - 3 - 0  3 - 3 - 0  0.500   \n",
       "Kansas City Chiefs                6 - 2 - 0  5 - 3 - 0  5 - 1 - 0  0.833   \n",
       "Minnesota Vikings                 6 - 2 - 0  5 - 3 - 0  5 - 1 - 0  0.833   \n",
       "Cincinnati Bengals                6 - 2 - 0  6 - 2 - 0  5 - 1 - 0  0.833   \n",
       "Denver Broncos                    6 - 2 - 0  6 - 2 - 0  4 - 2 - 0  0.667   \n",
       "New England Patriots              7 - 1 - 0  5 - 3 - 0  4 - 2 - 0  0.667   \n",
       "Arizona Cardinals                 6 - 2 - 0  7 - 1 - 0  4 - 2 - 0  0.667   \n",
       "Carolina Panthers                 8 - 0 - 0  7 - 1 - 0  5 - 1 - 0  0.833   \n",
       "\n",
       "                                        Conf    Pct   Non-Conf Strk     Last 5  \n",
       "NFL Team                                                                        \n",
       "Cleveland Browns                  2 - 10 - 0  0.167  1 - 3 - 0   3L  1 - 4 - 0  \n",
       "Tennessee Titans                  1 - 11 - 0  0.083  2 - 2 - 0   4L  1 - 4 - 0  \n",
       "Dallas Cowboys                     3 - 9 - 0  0.250  1 - 3 - 0   4L  1 - 4 - 0  \n",
       "San Diego Chargers                 3 - 9 - 0  0.250  1 - 3 - 0   2L  1 - 4 - 0  \n",
       "Baltimore Ravens                   4 - 8 - 0  0.333  1 - 3 - 0   1L  1 - 4 - 0  \n",
       "Jacksonville Jaguars               5 - 7 - 0  0.417  0 - 4 - 0   3L  1 - 4 - 0  \n",
       "San Francisco 49ers                4 - 8 - 0  0.333  1 - 3 - 0   1W  2 - 3 - 0  \n",
       "Chicago Bears                      3 - 9 - 0  0.250  3 - 1 - 0   1L  1 - 4 - 0  \n",
       "Miami Dolphins                     4 - 8 - 0  0.333  2 - 2 - 0   1W  2 - 3 - 0  \n",
       "New York Giants                    4 - 8 - 0  0.333  2 - 2 - 0   3L  1 - 4 - 0  \n",
       "Tampa Bay Buccaneers               5 - 7 - 0  0.417  1 - 3 - 0   4L  1 - 4 - 0  \n",
       "Detroit Lions                      6 - 6 - 0  0.500  1 - 3 - 0   3W  3 - 2 - 0  \n",
       "New Orleans Saints                 5 - 7 - 0  0.417  2 - 2 - 0   2W  3 - 2 - 0  \n",
       "Oakland Raiders                    7 - 5 - 0  0.583  0 - 4 - 0   1L  2 - 3 - 0  \n",
       "Philadelphia Eagles                4 - 8 - 0  0.333  3 - 1 - 0   1W  3 - 2 - 0  \n",
       "St Louis Rams                      6 - 6 - 0  0.500  1 - 3 - 0   1L  3 - 2 - 0  \n",
       "Atlanta Falcons                    5 - 7 - 0  0.417  3 - 1 - 0   1L  2 - 3 - 0  \n",
       "Buffalo Bills                      7 - 5 - 0  0.583  1 - 3 - 0   2W  3 - 2 - 0  \n",
       "Indianapolis Colts                 6 - 6 - 0  0.500  2 - 2 - 0   2W  2 - 3 - 0  \n",
       "Houston Texans                     7 - 5 - 0  0.583  2 - 2 - 0   3W  3 - 2 - 0  \n",
       "Washington Redskins                8 - 4 - 0  0.667  1 - 3 - 0   4W  4 - 1 - 0  \n",
       "Green Bay Packers                  7 - 5 - 0  0.583  3 - 1 - 0   2L  3 - 2 - 0  \n",
       "New York Jets                      7 - 5 - 0  0.583  3 - 1 - 0   1L  4 - 1 - 0  \n",
       "Pittsburgh Steelers                7 - 5 - 0  0.583  3 - 1 - 0   1W  4 - 1 - 0  \n",
       "Seattle Seahawks                   7 - 5 - 0  0.583  3 - 1 - 0   1W  4 - 1 - 0  \n",
       "Kansas City Chiefs                10 - 2 - 0  0.833  1 - 3 - 0  10W  5 - 0 - 0  \n",
       "Minnesota Vikings                  8 - 4 - 0  0.667  3 - 1 - 0   3W  3 - 2 - 0  \n",
       "Cincinnati Bengals                 9 - 3 - 0  0.750  3 - 1 - 0   1W  3 - 2 - 0  \n",
       "Denver Broncos                     8 - 4 - 0  0.667  4 - 0 - 0   2W  3 - 2 - 0  \n",
       "New England Patriots               9 - 3 - 0  0.750  3 - 1 - 0   2L  2 - 3 - 0  \n",
       "Arizona Cardinals                 10 - 2 - 0  0.833  3 - 1 - 0   1L  4 - 1 - 0  \n",
       "Carolina Panthers                 11 - 1 - 0  0.917  4 - 0 - 0   1W  4 - 1 - 0  "
      ],
      "text/html": "<div>\n<style scoped>\n    .dataframe tbody tr th:only-of-type {\n        vertical-align: middle;\n    }\n\n    .dataframe tbody tr th {\n        vertical-align: top;\n    }\n\n    .dataframe thead th {\n        text-align: right;\n    }\n</style>\n<table border=\"1\" class=\"dataframe\">\n  <thead>\n    <tr style=\"text-align: right;\">\n      <th></th>\n      <th>W</th>\n      <th>L</th>\n      <th>T</th>\n      <th>PCT</th>\n      <th>PF</th>\n      <th>PA</th>\n      <th>Net Pts</th>\n      <th>Home</th>\n      <th>Road</th>\n      <th>Div</th>\n      <th>Pct</th>\n      <th>Conf</th>\n      <th>Pct</th>\n      <th>Non-Conf</th>\n      <th>Strk</th>\n      <th>Last 5</th>\n    </tr>\n    <tr>\n      <th>NFL Team</th>\n      <th></th>\n      <th></th>\n      <th></th>\n      <th></th>\n      <th></th>\n      <th></th>\n      <th></th>\n      <th></th>\n      <th></th>\n      <th></th>\n      <th></th>\n      <th></th>\n      <th></th>\n      <th></th>\n      <th></th>\n      <th></th>\n    </tr>\n  </thead>\n  <tbody>\n    <tr>\n      <th>Cleveland Browns</th>\n      <td>3</td>\n      <td>13</td>\n      <td>0</td>\n      <td>0.188</td>\n      <td>278</td>\n      <td>432</td>\n      <td>-154</td>\n      <td>2 - 6 - 0</td>\n      <td>1 - 7 - 0</td>\n      <td>1 - 5 - 0</td>\n      <td>0.167</td>\n      <td>2 - 10 - 0</td>\n      <td>0.167</td>\n      <td>1 - 3 - 0</td>\n      <td>3L</td>\n      <td>1 - 4 - 0</td>\n    </tr>\n    <tr>\n      <th>Tennessee Titans</th>\n      <td>3</td>\n      <td>13</td>\n      <td>0</td>\n      <td>0.188</td>\n      <td>299</td>\n      <td>423</td>\n      <td>-124</td>\n      <td>1 - 7 - 0</td>\n      <td>2 - 6 - 0</td>\n      <td>1 - 5 - 0</td>\n      <td>0.167</td>\n      <td>1 - 11 - 0</td>\n      <td>0.083</td>\n      <td>2 - 2 - 0</td>\n      <td>4L</td>\n      <td>1 - 4 - 0</td>\n    </tr>\n    <tr>\n      <th>Dallas Cowboys</th>\n      <td>4</td>\n      <td>12</td>\n      <td>0</td>\n      <td>0.250</td>\n      <td>275</td>\n      <td>374</td>\n      <td>-99</td>\n      <td>1 - 7 - 0</td>\n      <td>3 - 5 - 0</td>\n      <td>3 - 3 - 0</td>\n      <td>0.500</td>\n      <td>3 - 9 - 0</td>\n      <td>0.250</td>\n      <td>1 - 3 - 0</td>\n      <td>4L</td>\n      <td>1 - 4 - 0</td>\n    </tr>\n    <tr>\n      <th>San Diego Chargers</th>\n      <td>4</td>\n      <td>12</td>\n      <td>0</td>\n      <td>0.250</td>\n      <td>320</td>\n      <td>398</td>\n      <td>-78</td>\n      <td>3 - 5 - 0</td>\n      <td>1 - 7 - 0</td>\n      <td>0 - 6 - 0</td>\n      <td>0.000</td>\n      <td>3 - 9 - 0</td>\n      <td>0.250</td>\n      <td>1 - 3 - 0</td>\n      <td>2L</td>\n      <td>1 - 4 - 0</td>\n    </tr>\n    <tr>\n      <th>Baltimore Ravens</th>\n      <td>5</td>\n      <td>11</td>\n      <td>0</td>\n      <td>0.313</td>\n      <td>328</td>\n      <td>401</td>\n      <td>-73</td>\n      <td>3 - 5 - 0</td>\n      <td>2 - 6 - 0</td>\n      <td>3 - 3 - 0</td>\n      <td>0.500</td>\n      <td>4 - 8 - 0</td>\n      <td>0.333</td>\n      <td>1 - 3 - 0</td>\n      <td>1L</td>\n      <td>1 - 4 - 0</td>\n    </tr>\n    <tr>\n      <th>Jacksonville Jaguars</th>\n      <td>5</td>\n      <td>11</td>\n      <td>0</td>\n      <td>0.313</td>\n      <td>376</td>\n      <td>448</td>\n      <td>-72</td>\n      <td>4 - 4 - 0</td>\n      <td>1 - 7 - 0</td>\n      <td>2 - 4 - 0</td>\n      <td>0.333</td>\n      <td>5 - 7 - 0</td>\n      <td>0.417</td>\n      <td>0 - 4 - 0</td>\n      <td>3L</td>\n      <td>1 - 4 - 0</td>\n    </tr>\n    <tr>\n      <th>San Francisco 49ers</th>\n      <td>5</td>\n      <td>11</td>\n      <td>0</td>\n      <td>0.313</td>\n      <td>238</td>\n      <td>387</td>\n      <td>-149</td>\n      <td>4 - 4 - 0</td>\n      <td>1 - 7 - 0</td>\n      <td>1 - 5 - 0</td>\n      <td>0.167</td>\n      <td>4 - 8 - 0</td>\n      <td>0.333</td>\n      <td>1 - 3 - 0</td>\n      <td>1W</td>\n      <td>2 - 3 - 0</td>\n    </tr>\n    <tr>\n      <th>Chicago Bears</th>\n      <td>6</td>\n      <td>10</td>\n      <td>0</td>\n      <td>0.375</td>\n      <td>335</td>\n      <td>397</td>\n      <td>-62</td>\n      <td>1 - 7 - 0</td>\n      <td>5 - 3 - 0</td>\n      <td>1 - 5 - 0</td>\n      <td>0.167</td>\n      <td>3 - 9 - 0</td>\n      <td>0.250</td>\n      <td>3 - 1 - 0</td>\n      <td>1L</td>\n      <td>1 - 4 - 0</td>\n    </tr>\n    <tr>\n      <th>Miami Dolphins</th>\n      <td>6</td>\n      <td>10</td>\n      <td>0</td>\n      <td>0.375</td>\n      <td>310</td>\n      <td>389</td>\n      <td>-79</td>\n      <td>3 - 5 - 0</td>\n      <td>3 - 5 - 0</td>\n      <td>1 - 5 - 0</td>\n      <td>0.167</td>\n      <td>4 - 8 - 0</td>\n      <td>0.333</td>\n      <td>2 - 2 - 0</td>\n      <td>1W</td>\n      <td>2 - 3 - 0</td>\n    </tr>\n    <tr>\n      <th>New York Giants</th>\n      <td>6</td>\n      <td>10</td>\n      <td>0</td>\n      <td>0.375</td>\n      <td>420</td>\n      <td>442</td>\n      <td>-22</td>\n      <td>3 - 5 - 0</td>\n      <td>3 - 5 - 0</td>\n      <td>2 - 4 - 0</td>\n      <td>0.333</td>\n      <td>4 - 8 - 0</td>\n      <td>0.333</td>\n      <td>2 - 2 - 0</td>\n      <td>3L</td>\n      <td>1 - 4 - 0</td>\n    </tr>\n    <tr>\n      <th>Tampa Bay Buccaneers</th>\n      <td>6</td>\n      <td>10</td>\n      <td>0</td>\n      <td>0.375</td>\n      <td>342</td>\n      <td>417</td>\n      <td>-75</td>\n      <td>3 - 5 - 0</td>\n      <td>3 - 5 - 0</td>\n      <td>3 - 3 - 0</td>\n      <td>0.500</td>\n      <td>5 - 7 - 0</td>\n      <td>0.417</td>\n      <td>1 - 3 - 0</td>\n      <td>4L</td>\n      <td>1 - 4 - 0</td>\n    </tr>\n    <tr>\n      <th>Detroit Lions</th>\n      <td>7</td>\n      <td>9</td>\n      <td>0</td>\n      <td>0.438</td>\n      <td>358</td>\n      <td>400</td>\n      <td>-42</td>\n      <td>4 - 4 - 0</td>\n      <td>3 - 5 - 0</td>\n      <td>3 - 3 - 0</td>\n      <td>0.500</td>\n      <td>6 - 6 - 0</td>\n      <td>0.500</td>\n      <td>1 - 3 - 0</td>\n      <td>3W</td>\n      <td>3 - 2 - 0</td>\n    </tr>\n    <tr>\n      <th>New Orleans Saints</th>\n      <td>7</td>\n      <td>9</td>\n      <td>0</td>\n      <td>0.438</td>\n      <td>408</td>\n      <td>476</td>\n      <td>-68</td>\n      <td>4 - 4 - 0</td>\n      <td>3 - 5 - 0</td>\n      <td>3 - 3 - 0</td>\n      <td>0.500</td>\n      <td>5 - 7 - 0</td>\n      <td>0.417</td>\n      <td>2 - 2 - 0</td>\n      <td>2W</td>\n      <td>3 - 2 - 0</td>\n    </tr>\n    <tr>\n      <th>Oakland Raiders</th>\n      <td>7</td>\n      <td>9</td>\n      <td>0</td>\n      <td>0.438</td>\n      <td>359</td>\n      <td>399</td>\n      <td>-40</td>\n      <td>3 - 5 - 0</td>\n      <td>4 - 4 - 0</td>\n      <td>3 - 3 - 0</td>\n      <td>0.500</td>\n      <td>7 - 5 - 0</td>\n      <td>0.583</td>\n      <td>0 - 4 - 0</td>\n      <td>1L</td>\n      <td>2 - 3 - 0</td>\n    </tr>\n    <tr>\n      <th>Philadelphia Eagles</th>\n      <td>7</td>\n      <td>9</td>\n      <td>0</td>\n      <td>0.438</td>\n      <td>377</td>\n      <td>430</td>\n      <td>-53</td>\n      <td>3 - 5 - 0</td>\n      <td>4 - 4 - 0</td>\n      <td>3 - 3 - 0</td>\n      <td>0.500</td>\n      <td>4 - 8 - 0</td>\n      <td>0.333</td>\n      <td>3 - 1 - 0</td>\n      <td>1W</td>\n      <td>3 - 2 - 0</td>\n    </tr>\n    <tr>\n      <th>St Louis Rams</th>\n      <td>7</td>\n      <td>9</td>\n      <td>0</td>\n      <td>0.438</td>\n      <td>280</td>\n      <td>330</td>\n      <td>-50</td>\n      <td>5 - 3 - 0</td>\n      <td>2 - 6 - 0</td>\n      <td>4 - 2 - 0</td>\n      <td>0.667</td>\n      <td>6 - 6 - 0</td>\n      <td>0.500</td>\n      <td>1 - 3 - 0</td>\n      <td>1L</td>\n      <td>3 - 2 - 0</td>\n    </tr>\n    <tr>\n      <th>Atlanta Falcons</th>\n      <td>8</td>\n      <td>8</td>\n      <td>0</td>\n      <td>0.500</td>\n      <td>339</td>\n      <td>345</td>\n      <td>-6</td>\n      <td>4 - 4 - 0</td>\n      <td>4 - 4 - 0</td>\n      <td>1 - 5 - 0</td>\n      <td>0.167</td>\n      <td>5 - 7 - 0</td>\n      <td>0.417</td>\n      <td>3 - 1 - 0</td>\n      <td>1L</td>\n      <td>2 - 3 - 0</td>\n    </tr>\n    <tr>\n      <th>Buffalo Bills</th>\n      <td>8</td>\n      <td>8</td>\n      <td>0</td>\n      <td>0.500</td>\n      <td>379</td>\n      <td>359</td>\n      <td>20</td>\n      <td>5 - 3 - 0</td>\n      <td>3 - 5 - 0</td>\n      <td>4 - 2 - 0</td>\n      <td>0.667</td>\n      <td>7 - 5 - 0</td>\n      <td>0.583</td>\n      <td>1 - 3 - 0</td>\n      <td>2W</td>\n      <td>3 - 2 - 0</td>\n    </tr>\n    <tr>\n      <th>Indianapolis Colts</th>\n      <td>8</td>\n      <td>8</td>\n      <td>0</td>\n      <td>0.500</td>\n      <td>333</td>\n      <td>408</td>\n      <td>-75</td>\n      <td>4 - 4 - 0</td>\n      <td>4 - 4 - 0</td>\n      <td>4 - 2 - 0</td>\n      <td>0.667</td>\n      <td>6 - 6 - 0</td>\n      <td>0.500</td>\n      <td>2 - 2 - 0</td>\n      <td>2W</td>\n      <td>2 - 3 - 0</td>\n    </tr>\n    <tr>\n      <th>Houston Texans</th>\n      <td>9</td>\n      <td>7</td>\n      <td>0</td>\n      <td>0.563</td>\n      <td>339</td>\n      <td>313</td>\n      <td>26</td>\n      <td>5 - 3 - 0</td>\n      <td>4 - 4 - 0</td>\n      <td>5 - 1 - 0</td>\n      <td>0.833</td>\n      <td>7 - 5 - 0</td>\n      <td>0.583</td>\n      <td>2 - 2 - 0</td>\n      <td>3W</td>\n      <td>3 - 2 - 0</td>\n    </tr>\n    <tr>\n      <th>Washington Redskins</th>\n      <td>9</td>\n      <td>7</td>\n      <td>0</td>\n      <td>0.563</td>\n      <td>388</td>\n      <td>379</td>\n      <td>9</td>\n      <td>6 - 2 - 0</td>\n      <td>3 - 5 - 0</td>\n      <td>4 - 2 - 0</td>\n      <td>0.667</td>\n      <td>8 - 4 - 0</td>\n      <td>0.667</td>\n      <td>1 - 3 - 0</td>\n      <td>4W</td>\n      <td>4 - 1 - 0</td>\n    </tr>\n    <tr>\n      <th>Green Bay Packers</th>\n      <td>10</td>\n      <td>6</td>\n      <td>0</td>\n      <td>0.625</td>\n      <td>368</td>\n      <td>323</td>\n      <td>45</td>\n      <td>5 - 3 - 0</td>\n      <td>5 - 3 - 0</td>\n      <td>3 - 3 - 0</td>\n      <td>0.500</td>\n      <td>7 - 5 - 0</td>\n      <td>0.583</td>\n      <td>3 - 1 - 0</td>\n      <td>2L</td>\n      <td>3 - 2 - 0</td>\n    </tr>\n    <tr>\n      <th>New York Jets</th>\n      <td>10</td>\n      <td>6</td>\n      <td>0</td>\n      <td>0.625</td>\n      <td>387</td>\n      <td>314</td>\n      <td>73</td>\n      <td>6 - 2 - 0</td>\n      <td>4 - 4 - 0</td>\n      <td>3 - 3 - 0</td>\n      <td>0.500</td>\n      <td>7 - 5 - 0</td>\n      <td>0.583</td>\n      <td>3 - 1 - 0</td>\n      <td>1L</td>\n      <td>4 - 1 - 0</td>\n    </tr>\n    <tr>\n      <th>Pittsburgh Steelers</th>\n      <td>10</td>\n      <td>6</td>\n      <td>0</td>\n      <td>0.625</td>\n      <td>423</td>\n      <td>319</td>\n      <td>104</td>\n      <td>6 - 2 - 0</td>\n      <td>4 - 4 - 0</td>\n      <td>3 - 3 - 0</td>\n      <td>0.500</td>\n      <td>7 - 5 - 0</td>\n      <td>0.583</td>\n      <td>3 - 1 - 0</td>\n      <td>1W</td>\n      <td>4 - 1 - 0</td>\n    </tr>\n    <tr>\n      <th>Seattle Seahawks</th>\n      <td>10</td>\n      <td>6</td>\n      <td>0</td>\n      <td>0.625</td>\n      <td>423</td>\n      <td>277</td>\n      <td>146</td>\n      <td>5 - 3 - 0</td>\n      <td>5 - 3 - 0</td>\n      <td>3 - 3 - 0</td>\n      <td>0.500</td>\n      <td>7 - 5 - 0</td>\n      <td>0.583</td>\n      <td>3 - 1 - 0</td>\n      <td>1W</td>\n      <td>4 - 1 - 0</td>\n    </tr>\n    <tr>\n      <th>Kansas City Chiefs</th>\n      <td>11</td>\n      <td>5</td>\n      <td>0</td>\n      <td>0.688</td>\n      <td>405</td>\n      <td>287</td>\n      <td>118</td>\n      <td>6 - 2 - 0</td>\n      <td>5 - 3 - 0</td>\n      <td>5 - 1 - 0</td>\n      <td>0.833</td>\n      <td>10 - 2 - 0</td>\n      <td>0.833</td>\n      <td>1 - 3 - 0</td>\n      <td>10W</td>\n      <td>5 - 0 - 0</td>\n    </tr>\n    <tr>\n      <th>Minnesota Vikings</th>\n      <td>11</td>\n      <td>5</td>\n      <td>0</td>\n      <td>0.688</td>\n      <td>365</td>\n      <td>302</td>\n      <td>63</td>\n      <td>6 - 2 - 0</td>\n      <td>5 - 3 - 0</td>\n      <td>5 - 1 - 0</td>\n      <td>0.833</td>\n      <td>8 - 4 - 0</td>\n      <td>0.667</td>\n      <td>3 - 1 - 0</td>\n      <td>3W</td>\n      <td>3 - 2 - 0</td>\n    </tr>\n    <tr>\n      <th>Cincinnati Bengals</th>\n      <td>12</td>\n      <td>4</td>\n      <td>0</td>\n      <td>0.750</td>\n      <td>419</td>\n      <td>279</td>\n      <td>140</td>\n      <td>6 - 2 - 0</td>\n      <td>6 - 2 - 0</td>\n      <td>5 - 1 - 0</td>\n      <td>0.833</td>\n      <td>9 - 3 - 0</td>\n      <td>0.750</td>\n      <td>3 - 1 - 0</td>\n      <td>1W</td>\n      <td>3 - 2 - 0</td>\n    </tr>\n    <tr>\n      <th>Denver Broncos</th>\n      <td>12</td>\n      <td>4</td>\n      <td>0</td>\n      <td>0.750</td>\n      <td>355</td>\n      <td>296</td>\n      <td>59</td>\n      <td>6 - 2 - 0</td>\n      <td>6 - 2 - 0</td>\n      <td>4 - 2 - 0</td>\n      <td>0.667</td>\n      <td>8 - 4 - 0</td>\n      <td>0.667</td>\n      <td>4 - 0 - 0</td>\n      <td>2W</td>\n      <td>3 - 2 - 0</td>\n    </tr>\n    <tr>\n      <th>New England Patriots</th>\n      <td>12</td>\n      <td>4</td>\n      <td>0</td>\n      <td>0.750</td>\n      <td>465</td>\n      <td>315</td>\n      <td>150</td>\n      <td>7 - 1 - 0</td>\n      <td>5 - 3 - 0</td>\n      <td>4 - 2 - 0</td>\n      <td>0.667</td>\n      <td>9 - 3 - 0</td>\n      <td>0.750</td>\n      <td>3 - 1 - 0</td>\n      <td>2L</td>\n      <td>2 - 3 - 0</td>\n    </tr>\n    <tr>\n      <th>Arizona Cardinals</th>\n      <td>13</td>\n      <td>3</td>\n      <td>0</td>\n      <td>0.813</td>\n      <td>489</td>\n      <td>313</td>\n      <td>176</td>\n      <td>6 - 2 - 0</td>\n      <td>7 - 1 - 0</td>\n      <td>4 - 2 - 0</td>\n      <td>0.667</td>\n      <td>10 - 2 - 0</td>\n      <td>0.833</td>\n      <td>3 - 1 - 0</td>\n      <td>1L</td>\n      <td>4 - 1 - 0</td>\n    </tr>\n    <tr>\n      <th>Carolina Panthers</th>\n      <td>15</td>\n      <td>1</td>\n      <td>0</td>\n      <td>0.938</td>\n      <td>500</td>\n      <td>308</td>\n      <td>192</td>\n      <td>8 - 0 - 0</td>\n      <td>7 - 1 - 0</td>\n      <td>5 - 1 - 0</td>\n      <td>0.833</td>\n      <td>11 - 1 - 0</td>\n      <td>0.917</td>\n      <td>4 - 0 - 0</td>\n      <td>1W</td>\n      <td>4 - 1 - 0</td>\n    </tr>\n  </tbody>\n</table>\n</div>"
     },
     "metadata": {},
     "execution_count": 114
    }
   ],
   "source": [
    "df['NFL Team'] = df['NFL Team'].str.replace(r'\\n', '')\n",
    "df['NFL Team'] = df['NFL Team'].str.replace(r'.', '')\n",
    "df['NFL Team'] = df['NFL Team'].str.replace(r'xz', '')\n",
    "df['NFL Team']  = df['NFL Team'].str.replace(r'xy', '')\n",
    "df['NFL Team']  = df['NFL Team'].str.replace(r'*', '')\n",
    "df['NFL Team'] = df['NFL Team'].str.replace(r'\\b(\\w+)(\\s+\\1)+\\b', r'\\1')\n",
    "df.set_index('NFL Team', inplace=True)\n",
    "df"
   ]
  },
  {
   "cell_type": "code",
   "execution_count": 92,
   "metadata": {},
   "outputs": [],
   "source": [
    "#dict = df.to_dict('df')\n",
    "#dict"
   ]
  },
  {
   "cell_type": "code",
   "execution_count": 121,
   "metadata": {},
   "outputs": [
    {
     "output_type": "execute_result",
     "data": {
      "text/plain": [
       "dict"
      ]
     },
     "metadata": {},
     "execution_count": 121
    }
   ],
   "source": [
    "records = df.to_dict(orient='index')\n",
    "db.collection.insert(records)"
   ]
  },
  {
   "cell_type": "code",
   "execution_count": 99,
   "metadata": {},
   "outputs": [
    {
     "output_type": "execute_result",
     "data": {
      "text/plain": [
       "ObjectId('5f9393d82a1178eb0d7c4105')"
      ]
     },
     "metadata": {},
     "execution_count": 99
    }
   ],
   "source": [
    "browns = {'NFL Team': 'Cleveland Browns',\n",
    "  'W': '3',\n",
    "  'L': '13',\n",
    "  'T': '0',\n",
    "  'PCT': '0.188',\n",
    "  'PF': '278',\n",
    "  'PA': '432',\n",
    "  'Net Pts': '-154',\n",
    "  'Home': '2 - 6 - 0',\n",
    "  'Road': '1 - 7 - 0',\n",
    "  'Div': '1 - 5 - 0',\n",
    "  'Pct': '0.167',\n",
    "  'Conf': '2 - 10 - 0',\n",
    "  'Non-Conf': '1 - 3 - 0',\n",
    "  'Strk': '3L',\n",
    "  'Last 5': '1 - 4 - 0'}\n",
    "db.collection.insert(browns)"
   ]
  }
 ]
}